{
 "cells": [
  {
   "attachments": {},
   "cell_type": "markdown",
   "metadata": {},
   "source": [
    "# In order to habe a better understanding of our data, we would like to check how these data distributed."
   ]
  },
  {
   "cell_type": "code",
   "execution_count": 3,
   "metadata": {},
   "outputs": [],
   "source": [
    "import pandas as pd\n",
    "import datetime\n",
    "import numpy as np\n",
    "from scipy.stats import skew, kurtosis\n",
    "import matplotlib.pyplot as plt\n",
    "import seaborn as sns"
   ]
  },
  {
   "cell_type": "code",
   "execution_count": 4,
   "metadata": {},
   "outputs": [],
   "source": [
    "paris = pd.read_csv('../dep&ret_flights/dep&ret_flights_0320/paris_0320.csv')\n",
    "berlin = pd.read_csv('../dep&ret_flights/dep&ret_flights_0320/berlin_0320.csv')\n",
    "madrid = pd.read_csv('../dep&ret_flights/dep&ret_flights_0320/madrid_0320.csv')\n",
    "lisbon = pd.read_csv('../dep&ret_flights/dep&ret_flights_0320/lisbon_0320.csv')\n",
    "rome = pd.read_csv('../dep&ret_flights/dep&ret_flights_0320/rome_0320.csv')\n",
    "bud = pd.read_csv('../dep&ret_flights/dep&ret_flights_0320/budapest_0320.csv')\n",
    "athens = pd.read_csv('../dep&ret_flights/dep&ret_flights_0320/athens_0320.csv')"
   ]
  },
  {
   "cell_type": "code",
   "execution_count": 3,
   "metadata": {},
   "outputs": [],
   "source": [
    "# List of dataframes\n",
    "dfs = [paris, berlin, madrid, lisbon, rome, bud, athens]\n",
    "\n",
    "# Columns to convert to datetime\n",
    "columns_to_convert = ['depFlight_departure', 'depFlight_arrival', 'retFlight_departure', 'retFlight_arrival']\n",
    "\n",
    "# Convert columns to datetime\n",
    "for df in dfs:\n",
    "    for column in columns_to_convert:\n",
    "        df[column] = pd.to_datetime(df[column])\n",
    "# Extract the month from the departure date\n",
    "for df in dfs:\n",
    "    df['departure_month'] = df['depFlight_departure'].dt.month"
   ]
  },
  {
   "attachments": {},
   "cell_type": "markdown",
   "metadata": {},
   "source": [
    "## First, we check the overall data distribution"
   ]
  },
  {
   "cell_type": "code",
   "execution_count": null,
   "metadata": {},
   "outputs": [],
   "source": [
    "from plotnine import *\n",
    "\n",
    "city_dfs = {\n",
    "    'Paris': paris, \n",
    "    'Berlin': berlin, \n",
    "    'Madrid': madrid, \n",
    "    'Lisbon': lisbon, \n",
    "    'Rome': rome, \n",
    "    'Budapest': bud, \n",
    "    'Athens': athens\n",
    "}\n",
    "# Create an empty list to store the modified dataframes\n",
    "modified_dfs = []\n",
    "\n",
    "# Iterate over each city and add the 'city' column\n",
    "for city, df in city_dfs.items():\n",
    "    df['city'] = city\n",
    "    modified_dfs.append(df)\n",
    "\n",
    "# Concatenate the modified dataframes into a single dataframe\n",
    "combined_df = pd.concat(modified_dfs)\n",
    "\n",
    "# Create a dictionary mapping city names to colors\n",
    "color_mapping = {\n",
    "    'Paris': 'blue',\n",
    "    'Berlin': 'green',\n",
    "    'Madrid': 'red',\n",
    "    'Lisbon': 'purple',\n",
    "    'Rome': 'orange',\n",
    "    'Budapest': 'brown',\n",
    "    'Athens': 'CadetBlue'\n",
    "}\n",
    "\n",
    "# Plot KDEs for each city\n",
    "distribution = (\n",
    "    ggplot(combined_df, aes(x='price_amount', fill='factor(city)')) +\n",
    "    geom_density(alpha=0.4) +\n",
    "    scale_fill_manual(values=color_mapping, guide=guide_legend(title='City')) +\n",
    "    labs(x='Price Amount', y='Density', title='Price Amount KDE for Cities') +\n",
    "    theme_bw()\n",
    ")\n",
    "#save plot\n",
    "distribution.save(\"distribution.png\", dpi=300)\n"
   ]
  },
  {
   "attachments": {},
   "cell_type": "markdown",
   "metadata": {},
   "source": [
    "## And then check the distribution for each city"
   ]
  },
  {
   "cell_type": "code",
   "execution_count": null,
   "metadata": {},
   "outputs": [],
   "source": [
    "from plotnine import (\n",
    "    ggplot,\n",
    "    aes,\n",
    "    after_stat,\n",
    "    geom_density,\n",
    "    geom_histogram,\n",
    "    geom_vline,\n",
    "    geom_rect,\n",
    "    labs,\n",
    "    annotate,\n",
    "    theme_tufte\n",
    ")"
   ]
  },
  {
   "cell_type": "code",
   "execution_count": null,
   "metadata": {},
   "outputs": [],
   "source": [
    "city_dfs = {'Paris': paris, 'Berlin': berlin, 'Madrid': madrid, 'Lisbon': lisbon, 'Rome': rome, 'Budapest': bud, 'Athens': athens}\n",
    "colors = ['blue', 'green', 'red', 'purple', 'orange', 'brown', 'CadetBlue']"
   ]
  },
  {
   "cell_type": "code",
   "execution_count": null,
   "metadata": {},
   "outputs": [],
   "source": [
    "# Iterate over each city and create the distribution plot\n",
    "for city, df in city_dfs.items():\n",
    "    Q1 = df['price_amount'].quantile(0.25)\n",
    "    Q3 = df['price_amount'].quantile(0.75)\n",
    "    median = df['price_amount'].quantile(0.5)\n",
    "    region = (Q1, Q3)\n",
    "\n",
    "    plot = (\n",
    "        ggplot(df, aes('price_amount')) +\n",
    "        geom_histogram(fill='gray', color='white', bins=30,alpha=0.5) +\n",
    "        annotate(geom_rect, xmin=region[0], xmax=region[1], ymin=0, ymax=np.inf, fill=colors[list(city_dfs.keys()).index(city)], alpha=0.5) +\n",
    "        annotate(geom_vline, xintercept=median, color=colors[list(city_dfs.keys()).index(city)], size=1) +\n",
    "        labs(x='Price Amount', y='Frequency', title=f'Price Amount Distribution for {city}') +\n",
    "        theme_bw() +\n",
    "        theme(legend_position='top_right', legend_title=element_blank()) +\n",
    "        guides(fill=False, color=False) +\n",
    "        scale_fill_manual(values=[colors[list(city_dfs.keys()).index(city)]] * 3, labels=['Q1', 'Median', 'Q3'])\n",
    "    )\n",
    "\n",
    "    # Save the plot\n",
    "    plot.save(f'distribution_{city}.png')\n",
    "    \n",
    "    # Display the plot\n",
    "    print(plot)"
   ]
  },
  {
   "attachments": {},
   "cell_type": "markdown",
   "metadata": {},
   "source": [
    "## We found there were heavy tails for each city's distribution, which means there were a lot extremely high ticket price. So then we carried out the analysis of outliers."
   ]
  },
  {
   "cell_type": "code",
   "execution_count": 7,
   "metadata": {},
   "outputs": [],
   "source": [
    "def get_outliers(df, column, factor=1.5):\n",
    "    q1 = df[column].quantile(0.25)\n",
    "    q3 = df[column].quantile(0.75)\n",
    "    iqr = q3 - q1\n",
    "\n",
    "    lower_bound = q1 - factor * iqr\n",
    "    upper_bound = q3 + factor * iqr\n",
    "\n",
    "    outliers = df[(df[column] < lower_bound) | (df[column] > upper_bound)]\n",
    "    \n",
    "    # Drop duplicates based on 'id' column\n",
    "    outliers = outliers.drop_duplicates(subset=['id'])\n",
    "\n",
    "    return outliers"
   ]
  },
  {
   "cell_type": "code",
   "execution_count": 8,
   "metadata": {},
   "outputs": [],
   "source": [
    "paris_out = get_outliers(paris,'price_amount')\n",
    "berlin_out = get_outliers(berlin,'price_amount')\n",
    "mad_out = get_outliers(madrid,'price_amount')\n",
    "lis_out = get_outliers(lisbon,'price_amount')\n",
    "rome_out = get_outliers(rome,'price_amount')\n",
    "bud_out = get_outliers(bud,'price_amount')\n",
    "athens_out = get_outliers(athens,'price_amount')"
   ]
  },
  {
   "attachments": {},
   "cell_type": "markdown",
   "metadata": {},
   "source": [
    "## Now, we carry out the outlier analysis by each city"
   ]
  },
  {
   "cell_type": "code",
   "execution_count": null,
   "metadata": {},
   "outputs": [],
   "source": [
    "# List of dataframes\n",
    "dfs = [paris_out, berlin_out, mad_out, lis_out, rome_out, bud_out, athens_out]\n",
    "df_names = [\"Paris\", \"Berlin\", \"Madrid\", \"Lisbon\", \"Rome\", \"Budapest\", \"Athens\"]\n",
    "\n",
    "# Define a custom color palette\n",
    "city_colors = ['blue', 'green', 'red', 'purple', 'orange', 'brown', 'CadetBlue']\n",
    "from plotnine import ggplot, aes, geom_bar, facet_wrap\n",
    "from plotnine import ggplot, aes, geom_bar, facet_wrap, scale_fill_manual, labs, theme, element_text\n",
    "\n",
    "# Add city column to each dataframe\n",
    "for df, city in zip(dfs, df_names):\n",
    "    df['city'] = city\n",
    "\n",
    "# Concatenate all dataframes\n",
    "df_all = pd.concat(dfs, ignore_index=True)\n",
    "\n",
    "# Create a dictionary for colors\n",
    "city_color_dict = dict(zip(df_names, city_colors))\n",
    "\n",
    "month=(\n",
    "    ggplot(df_all)\n",
    "    + aes(x='departure_month', fill='city')\n",
    "    + geom_bar(position='dodge')\n",
    "    + facet_wrap('~ city', scales='free_y',ncol=2)  # Add scales='free_y' to allow different y ranges\n",
    "    + scale_fill_manual(values=city_color_dict)\n",
    "    + labs(title=\"Number of Outliers per Month\", x=\"Month\", y=\"Number of Outliers\")\n",
    "    + theme(\n",
    "        plot_title=element_text(size=16),\n",
    "        strip_text_x = element_text(size = 11)\n",
    "    )\n",
    ")\n",
    "month.save(\"outliers_per_month.png\", height= 25, width = 12.5, dpi=96)"
   ]
  },
  {
   "cell_type": "code",
   "execution_count": null,
   "metadata": {},
   "outputs": [],
   "source": [
    "df_all['depFlight_name'] = df_all['depFlight_name'].apply(lambda x: x.replace(' ', '\\n', 1))\n",
    "carrier=(\n",
    "    ggplot(df_all)\n",
    "    + aes(x='depFlight_name', fill='city')\n",
    "    + geom_bar(position='dodge')\n",
    "    + facet_wrap('~ city', scales='free',ncol=2)  \n",
    "    + scale_fill_manual(values=city_color_dict)\n",
    "    + labs(title=\"Number of Outliers per Carrier\", x=\"Carriers\", y=\"Number of Outliers\")\n",
    "    + theme(\n",
    "        plot_title=element_text(size=16),\n",
    "        strip_text_x = element_text(size = 11),\n",
    "        axis_text_x=element_text(rotation=45)\n",
    "    )\n",
    ")\n",
    "carrier.save(\"outliers_carrier.png\", height= 25, width = 12.5, dpi=96)"
   ]
  },
  {
   "cell_type": "code",
   "execution_count": null,
   "metadata": {},
   "outputs": [],
   "source": [
    "df_all['depFlight_origin.name'] = df_all['depFlight_origin.name'].apply(lambda x: x.replace(' ', '\\n', 1))\n",
    "airport=(\n",
    "    ggplot(df_all)\n",
    "    + aes(x='depFlight_origin.name', fill='city')\n",
    "    + geom_bar(position='dodge')\n",
    "    + facet_wrap('~ city', scales='free',ncol=2)  \n",
    "    + scale_fill_manual(values=city_color_dict)\n",
    "    + labs(title=\"Number of Outliers per Airport\", x=\"Airports\", y=\"Number of Outliers\")\n",
    "    + theme(\n",
    "        plot_title=element_text(size=16),\n",
    "        strip_text_x = element_text(size = 11),\n",
    "        axis_text_x=element_text(rotation=45)\n",
    "    )\n",
    ")\n",
    "airport.save(\"outliers_airport\", height= 25, width = 12.5, dpi=96)"
   ]
  }
 ],
 "metadata": {
  "kernelspec": {
   "display_name": "base",
   "language": "python",
   "name": "python3"
  },
  "language_info": {
   "codemirror_mode": {
    "name": "ipython",
    "version": 3
   },
   "file_extension": ".py",
   "mimetype": "text/x-python",
   "name": "python",
   "nbconvert_exporter": "python",
   "pygments_lexer": "ipython3",
   "version": "3.9.13"
  },
  "orig_nbformat": 4,
  "vscode": {
   "interpreter": {
    "hash": "f7bf2069b810f723d51afe45bf970fd6aedacb538a9ebde9724b1de83f31d4af"
   }
  }
 },
 "nbformat": 4,
 "nbformat_minor": 2
}
