{
 "cells": [
  {
   "cell_type": "code",
   "execution_count": 1,
   "metadata": {},
   "outputs": [],
   "source": [
    "import requests\n",
    "import json\n",
    "import pandas as pd\n",
    "from datetime import date, timedelta\n",
    "import keys"
   ]
  },
  {
   "cell_type": "code",
   "execution_count": 2,
   "metadata": {},
   "outputs": [],
   "source": [
    "def flatten(data, prefix=\"\"):\n",
    "    flattened = {}\n",
    "\n",
    "    if isinstance(data, dict):\n",
    "        for key, value in data.items():\n",
    "            if isinstance(value, (dict, list)):\n",
    "                flattened.update(flatten(value, f\"{prefix}{key}.\"))\n",
    "            else:\n",
    "                flattened[f\"{prefix}{key}\"] = value\n",
    "    elif isinstance(data, list):\n",
    "        for i, value in enumerate(data):\n",
    "            if isinstance(value, (dict, list)):\n",
    "                flattened.update(flatten(value, f\"{prefix}{i}_\"))\n",
    "            else:\n",
    "                flattened[f\"{prefix}{i}\"] = value\n",
    "\n",
    "    return flattened"
   ]
  },
  {
   "attachments": {},
   "cell_type": "markdown",
   "metadata": {},
   "source": [
    "## 1.Paris"
   ]
  },
  {
   "cell_type": "code",
   "execution_count": 3,
   "metadata": {},
   "outputs": [],
   "source": [
    "def weekend_dates(year, month):\n",
    "    weekends = []\n",
    "    d = date(year, month, 1)\n",
    "    while d.month == month:\n",
    "        if d.weekday() == 4:  \n",
    "            weekends.append((d, d + timedelta(days=2))) \n",
    "        d += timedelta(days=1)\n",
    "    return weekends\n",
    "\n",
    "dates = weekend_dates(2023, 6) + weekend_dates(2023, 7) + weekend_dates(2023, 8) + weekend_dates(2023, 9)"
   ]
  },
  {
   "cell_type": "code",
   "execution_count": 4,
   "metadata": {},
   "outputs": [],
   "source": [
    "url = \"https://skyscanner44.p.rapidapi.com/search-extended\"\n",
    "headers = {\n",
    "    \"X-RapidAPI-Key\": keys.api_key,\n",
    "    \"X-RapidAPI-Host\": \"skyscanner44.p.rapidapi.com\"\n",
    "}\n",
    "\n",
    "paris_responses = []\n",
    "\n",
    "for departure_date, return_date in dates:\n",
    "    querystring = {\n",
    "        \"adults\": \"1\",\n",
    "        \"origin\": \"LOND\",\n",
    "        \"destination\": \"PARI\",\n",
    "        \"departureDate\": departure_date.isoformat(),\n",
    "        \"returnDate\": return_date.isoformat(),\n",
    "        \"cabinClass\": \"economy\",\n",
    "        \"currency\": \"GBP\",\n",
    "        \"stops\": \"0\",\n",
    "    }\n",
    "\n",
    "    response = requests.request(\"GET\", url, headers=headers, params=querystring)\n",
    "    paris_responses.append(response.text)"
   ]
  },
  {
   "attachments": {},
   "cell_type": "markdown",
   "metadata": {},
   "source": [
    "aa = paris_responses[17]\n",
    "aa = json.loads(aa)[\"context\"]['status']"
   ]
  },
  {
   "cell_type": "code",
   "execution_count": null,
   "metadata": {},
   "outputs": [],
   "source": [
    "paris_dataframes = []\n",
    "\n",
    "for response_text in paris_responses:\n",
    "    paris = json.loads(response_text)[\"itineraries\"]\n",
    "    paris = paris[\"results\"]\n",
    "    flattened_data = [flatten(d) for d in paris]\n",
    "    paris = pd.DataFrame(flattened_data)\n",
    "    paris_dataframes.append(paris)\n",
    "par_0501 = pd.concat(paris_dataframes, ignore_index=True)"
   ]
  },
  {
   "attachments": {},
   "cell_type": "markdown",
   "metadata": {},
   "source": [
    "## 2. Berlin"
   ]
  },
  {
   "cell_type": "code",
   "execution_count": null,
   "metadata": {},
   "outputs": [],
   "source": [
    "url = \"https://skyscanner44.p.rapidapi.com/search-extended\"\n",
    "headers = {\n",
    "    \"X-RapidAPI-Key\": keys.api_key,\n",
    "    \"X-RapidAPI-Host\": \"skyscanner44.p.rapidapi.com\"\n",
    "}\n",
    "\n",
    "berlin_responses = []\n",
    "\n",
    "\n",
    "for departure_date, return_date in dates:\n",
    "    querystring = {\n",
    "        \"adults\": \"1\",\n",
    "        \"origin\": \"LOND\",\n",
    "        \"destination\": \"BER\",\n",
    "        \"departureDate\": departure_date.isoformat(),\n",
    "        \"returnDate\": return_date.isoformat(),\n",
    "        \"cabinClass\": \"economy\",\n",
    "        \"currency\": \"GBP\",\n",
    "        \"stops\": \"0\",\n",
    "    }\n",
    "\n",
    "    response = requests.request(\"GET\", url, headers=headers, params=querystring)\n",
    "    berlin_responses.append(response.text)\n"
   ]
  },
  {
   "cell_type": "code",
   "execution_count": null,
   "metadata": {},
   "outputs": [],
   "source": [
    "aa = berlin_responses[17]\n",
    "aa = json.loads(aa)[\"context\"]['status']"
   ]
  },
  {
   "cell_type": "code",
   "execution_count": null,
   "metadata": {},
   "outputs": [],
   "source": [
    "berlin_dataframes = []\n",
    "\n",
    "for response_text in berlin_responses:\n",
    "    berlin = json.loads(response_text)[\"itineraries\"]\n",
    "    berlin = berlin[\"results\"]\n",
    "    flattened_data = [flatten(d) for d in berlin]\n",
    "    berlin = pd.DataFrame(flattened_data)\n",
    "    berlin_dataframes.append(berlin)\n",
    "ber_0501 = pd.concat(berlin_dataframes, ignore_index=True)"
   ]
  },
  {
   "attachments": {},
   "cell_type": "markdown",
   "metadata": {},
   "source": [
    "## 3. Madrid"
   ]
  },
  {
   "cell_type": "code",
   "execution_count": null,
   "metadata": {},
   "outputs": [],
   "source": [
    "url = \"https://skyscanner44.p.rapidapi.com/search-extended\"\n",
    "headers = {\n",
    "    \"X-RapidAPI-Key\": keys.api_key,\n",
    "    \"X-RapidAPI-Host\": \"skyscanner44.p.rapidapi.com\"\n",
    "}\n",
    "\n",
    "madrid_responses = []\n",
    "\n",
    "for departure_date, return_date in dates:\n",
    "    querystring = {\n",
    "        \"adults\": \"1\",\n",
    "        \"origin\": \"LOND\",\n",
    "        \"destination\": \"MAD\",\n",
    "        \"departureDate\": departure_date.isoformat(),\n",
    "        \"returnDate\": return_date.isoformat(),\n",
    "        \"cabinClass\": \"economy\",\n",
    "        \"currency\": \"GBP\",\n",
    "        \"stops\": \"0\",\n",
    "    }\n",
    "\n",
    "    response = requests.request(\"GET\", url, headers=headers, params=querystring)\n",
    "    madrid_responses.append(response.text)"
   ]
  },
  {
   "cell_type": "code",
   "execution_count": null,
   "metadata": {},
   "outputs": [],
   "source": [
    "aa = madrid_responses[17]\n",
    "aa = json.loads(aa)[\"context\"]['status']"
   ]
  },
  {
   "cell_type": "code",
   "execution_count": null,
   "metadata": {},
   "outputs": [],
   "source": [
    "mardrid_dataframes = []\n",
    "\n",
    "for response_text in madrid_responses:\n",
    "    madrid = json.loads(response_text)[\"itineraries\"]\n",
    "    madrid = madrid[\"results\"]\n",
    "    flattened_data = [flatten(d) for d in madrid]\n",
    "    madrid = pd.DataFrame(flattened_data)\n",
    "    mardrid_dataframes.append(madrid)\n",
    "mar_0501 = pd.concat(mardrid_dataframes, ignore_index=True)"
   ]
  },
  {
   "attachments": {},
   "cell_type": "markdown",
   "metadata": {},
   "source": [
    "## 4. Lisbon"
   ]
  },
  {
   "cell_type": "code",
   "execution_count": null,
   "metadata": {},
   "outputs": [],
   "source": [
    "url = \"https://skyscanner44.p.rapidapi.com/search-extended\"\n",
    "headers = {\n",
    "    \"X-RapidAPI-Key\": keys.api_key,\n",
    "    \"X-RapidAPI-Host\": \"skyscanner44.p.rapidapi.com\"\n",
    "}\n",
    "\n",
    "lisbon_responses = []\n",
    "\n",
    "for departure_date, return_date in dates:\n",
    "    querystring = {\n",
    "        \"adults\": \"1\",\n",
    "        \"origin\": \"LOND\",\n",
    "        \"destination\": \"LIS\",\n",
    "        \"departureDate\": departure_date.isoformat(),\n",
    "        \"returnDate\": return_date.isoformat(),\n",
    "        \"cabinClass\": \"economy\",\n",
    "        \"currency\": \"GBP\",\n",
    "        \"stops\": \"0\",\n",
    "    }\n",
    "\n",
    "    response = requests.request(\"GET\", url, headers=headers, params=querystring)\n",
    "    lisbon_responses.append(response.text)"
   ]
  },
  {
   "cell_type": "code",
   "execution_count": null,
   "metadata": {},
   "outputs": [],
   "source": [
    "aa = lisbon_responses[17]\n",
    "aa = json.loads(aa)[\"context\"]['status']"
   ]
  },
  {
   "cell_type": "code",
   "execution_count": null,
   "metadata": {},
   "outputs": [],
   "source": [
    "lisbon_dataframes = []\n",
    "\n",
    "for response_text in lisbon_responses:\n",
    "    lisbon = json.loads(response_text)[\"itineraries\"]\n",
    "    lisbon = lisbon[\"results\"]\n",
    "    flattened_data = [flatten(d) for d in lisbon]\n",
    "    lisbon = pd.DataFrame(flattened_data)\n",
    "    lisbon_dataframes.append(lisbon)\n",
    "\n",
    "lis_0501 = pd.concat(lisbon_dataframes, ignore_index=True)"
   ]
  },
  {
   "attachments": {},
   "cell_type": "markdown",
   "metadata": {},
   "source": [
    "## 5. Rome"
   ]
  },
  {
   "cell_type": "code",
   "execution_count": null,
   "metadata": {},
   "outputs": [],
   "source": [
    "url = \"https://skyscanner44.p.rapidapi.com/search-extended\"\n",
    "headers = {\n",
    "    \"X-RapidAPI-Key\": keys.api_key,\n",
    "    \"X-RapidAPI-Host\": \"skyscanner44.p.rapidapi.com\"\n",
    "}\n",
    "\n",
    "rome_responses = []\n",
    "\n",
    "for departure_date, return_date in dates:\n",
    "    querystring = {\n",
    "        \"adults\": \"1\",\n",
    "        \"origin\": \"LOND\",\n",
    "        \"destination\": \"ROME\",\n",
    "        \"departureDate\": departure_date.isoformat(),\n",
    "        \"returnDate\": return_date.isoformat(),\n",
    "        \"cabinClass\": \"economy\",\n",
    "        \"currency\": \"GBP\",\n",
    "        \"stops\": \"0\",\n",
    "    }\n",
    "\n",
    "    response = requests.request(\"GET\", url, headers=headers, params=querystring)\n",
    "    rome_responses.append(response.text)"
   ]
  },
  {
   "cell_type": "code",
   "execution_count": null,
   "metadata": {},
   "outputs": [],
   "source": [
    "aa = rome_responses[17]\n",
    "aa = json.loads(aa)[\"context\"]['status']"
   ]
  },
  {
   "cell_type": "code",
   "execution_count": null,
   "metadata": {},
   "outputs": [],
   "source": [
    "rome_dataframes = []\n",
    "\n",
    "for response_text in rome_responses:\n",
    "    rome = json.loads(response_text)[\"itineraries\"] \n",
    "    rome = rome[\"results\"]\n",
    "    flattened_data = [flatten(d) for d in rome]\n",
    "    rome = pd.DataFrame(flattened_data)\n",
    "    rome_dataframes.append(rome)\n",
    "\n",
    "rome_0501 = pd.concat(rome_dataframes, ignore_index=True)"
   ]
  },
  {
   "attachments": {},
   "cell_type": "markdown",
   "metadata": {},
   "source": [
    "## 6. Budapest"
   ]
  },
  {
   "cell_type": "code",
   "execution_count": null,
   "metadata": {},
   "outputs": [],
   "source": [
    "url = \"https://skyscanner44.p.rapidapi.com/search-extended\"\n",
    "headers = {\n",
    "    \"X-RapidAPI-Key\": keys.api_key,\n",
    "    \"X-RapidAPI-Host\": \"skyscanner44.p.rapidapi.com\"\n",
    "}\n",
    "\n",
    "budapest_responses = []\n",
    "\n",
    "for departure_date, return_date in dates:\n",
    "    querystring = {\n",
    "        \"adults\": \"1\",\n",
    "        \"origin\": \"LOND\",\n",
    "        \"destination\": \"BUD\",\n",
    "        \"departureDate\": departure_date.isoformat(),\n",
    "        \"returnDate\": return_date.isoformat(),\n",
    "        \"cabinClass\": \"economy\",\n",
    "        \"currency\": \"GBP\",\n",
    "        \"stops\": \"0\",\n",
    "    }\n",
    "\n",
    "    response = requests.request(\"GET\", url, headers=headers, params=querystring)\n",
    "    budapest_responses.append(response.text)"
   ]
  },
  {
   "cell_type": "code",
   "execution_count": null,
   "metadata": {},
   "outputs": [],
   "source": [
    "aa = budapest_responses[17]\n",
    "aa = json.loads(aa)[\"context\"]['status']"
   ]
  },
  {
   "cell_type": "code",
   "execution_count": null,
   "metadata": {},
   "outputs": [],
   "source": [
    "bud_dataframes = []\n",
    "\n",
    "for response_text in budapest_responses:\n",
    "    bud = json.loads(response_text)[\"itineraries\"]\n",
    "    bud = bud[\"results\"]\n",
    "    flattened_data = [flatten(d) for d in bud]\n",
    "    bud = pd.DataFrame(flattened_data)\n",
    "    bud_dataframes.append(bud)\n",
    "\n",
    "bud_0501 = pd.concat(bud_dataframes, ignore_index=True)"
   ]
  },
  {
   "attachments": {},
   "cell_type": "markdown",
   "metadata": {},
   "source": [
    "## 7. Athens"
   ]
  },
  {
   "cell_type": "code",
   "execution_count": null,
   "metadata": {},
   "outputs": [],
   "source": [
    "url = \"https://skyscanner44.p.rapidapi.com/search-extended\"\n",
    "headers = {\n",
    "    \"X-RapidAPI-Key\": keys.api_key,\n",
    "    \"X-RapidAPI-Host\": \"skyscanner44.p.rapidapi.com\"\n",
    "}\n",
    "\n",
    "athens_responses = []\n",
    "\n",
    "for departure_date, return_date in dates:\n",
    "    querystring = {\n",
    "        \"adults\": \"1\",\n",
    "        \"origin\": \"LOND\",\n",
    "        \"destination\": \"ATH\",\n",
    "        \"departureDate\": departure_date.isoformat(),\n",
    "        \"returnDate\": return_date.isoformat(),\n",
    "        \"cabinClass\": \"economy\",\n",
    "        \"currency\": \"GBP\",\n",
    "        \"stops\": \"0\",\n",
    "    }\n",
    "\n",
    "    response = requests.request(\"GET\", url, headers=headers, params=querystring)\n",
    "    athens_responses.append(response.text)"
   ]
  },
  {
   "cell_type": "code",
   "execution_count": null,
   "metadata": {},
   "outputs": [],
   "source": [
    "aa = athens_responses[8]\n",
    "aa = json.loads(aa)[\"context\"]['status']"
   ]
  },
  {
   "cell_type": "code",
   "execution_count": null,
   "metadata": {},
   "outputs": [],
   "source": [
    "athens_dataframes = []\n",
    "\n",
    "for response_text in athens_responses:\n",
    "    athens = json.loads(response_text)[\"itineraries\"]\n",
    "    athens = athens[\"results\"]\n",
    "    flattened_data = [flatten(d) for d in athens]\n",
    "    athens = pd.DataFrame(flattened_data)\n",
    "    athens_dataframes.append(athens)\n",
    "\n",
    "athens_0501 = pd.concat(athens_dataframes, ignore_index=True)"
   ]
  }
 ],
 "metadata": {
  "kernelspec": {
   "display_name": "base",
   "language": "python",
   "name": "python3"
  },
  "language_info": {
   "codemirror_mode": {
    "name": "ipython",
    "version": 3
   },
   "file_extension": ".py",
   "mimetype": "text/x-python",
   "name": "python",
   "nbconvert_exporter": "python",
   "pygments_lexer": "ipython3",
   "version": "3.9.13"
  },
  "orig_nbformat": 4,
  "vscode": {
   "interpreter": {
    "hash": "f7bf2069b810f723d51afe45bf970fd6aedacb538a9ebde9724b1de83f31d4af"
   }
  }
 },
 "nbformat": 4,
 "nbformat_minor": 2
}
