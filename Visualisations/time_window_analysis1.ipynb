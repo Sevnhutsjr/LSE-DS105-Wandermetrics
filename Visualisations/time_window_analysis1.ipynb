{
 "cells": [
  {
   "cell_type": "code",
   "execution_count": null,
   "metadata": {},
   "outputs": [],
   "source": [
    "#Comparing number of flights between different time of searches\n",
    "\n",
    "import pandas as pd\n",
    "import datetime"
   ]
  },
  {
   "attachments": {},
   "cell_type": "markdown",
   "metadata": {},
   "source": [
    "## 1. Get Data"
   ]
  },
  {
   "cell_type": "code",
   "execution_count": null,
   "metadata": {},
   "outputs": [],
   "source": [
    "berlin_1 = pd.read_csv(\"../Data_API/dep_flights/depFlight_0320/berlin_0320.csv\")"
   ]
  }
 ],
 "metadata": {
  "kernelspec": {
   "display_name": "base",
   "language": "python",
   "name": "python3"
  },
  "language_info": {
   "name": "python",
   "version": "3.9.13"
  },
  "orig_nbformat": 4,
  "vscode": {
   "interpreter": {
    "hash": "711bbe00d52911f078a4e5c477bb52bd19e47732430f58f4157819f07c399338"
   }
  }
 },
 "nbformat": 4,
 "nbformat_minor": 2
}
