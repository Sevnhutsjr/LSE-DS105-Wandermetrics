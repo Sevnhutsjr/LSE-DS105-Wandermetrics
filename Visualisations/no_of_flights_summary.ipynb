{
 "cells": [
  {
   "cell_type": "code",
   "execution_count": 79,
   "metadata": {},
   "outputs": [],
   "source": [
    "#Comparing number of flights between different time of searches\n",
    "\n",
    "import pandas as pd\n",
    "import datetime"
   ]
  },
  {
   "attachments": {},
   "cell_type": "markdown",
   "metadata": {},
   "source": [
    "## 0. Set Up Stage (Data Transformation Function)"
   ]
  },
  {
   "cell_type": "code",
   "execution_count": 80,
   "metadata": {},
   "outputs": [],
   "source": [
    "def dataset_transform(df, number):\n",
    "    # Transforming the dataset to get the number of flights per month\n",
    "    df_new = df.groupby(pd.to_datetime(df['depFlight_departure']).dt.month)['id'].nunique().reset_index(name='count')\n",
    "    \n",
    "    # Adding a new column indicating the week of the search\n",
    "    new_column_name = 'week_of_search'\n",
    "    new_column_values = [number] * len(df_new)\n",
    "    df_final = df_new.assign(**{new_column_name: new_column_values})\n",
    "    \n",
    "    return df_final"
   ]
  },
  {
   "attachments": {},
   "cell_type": "markdown",
   "metadata": {},
   "source": [
    "## 1. Athens"
   ]
  },
  {
   "cell_type": "code",
   "execution_count": 81,
   "metadata": {},
   "outputs": [],
   "source": [
    "athens_01 = pd.read_csv('../dep_flights/depFlights_0320/athens_0320.csv')\n",
    "athens_02 = pd.read_csv('../dep_flights/depFlights_0327/athens_0327.csv')\n",
    "athens_03 = pd.read_csv('../dep_flights/depFlights_0410/athens_0410.csv')\n",
    "athens_04 = pd.read_csv('../dep_flights/depFlights_0417/athens_0417.csv')\n",
    "athens_05 = pd.read_csv('../dep_flights/depFlights_0423/athens_0423.csv')\n",
    "athens_06 = pd.read_csv('../dep_flights/depFlights_0501/athens_0501.csv')"
   ]
  },
  {
   "cell_type": "code",
   "execution_count": 82,
   "metadata": {},
   "outputs": [],
   "source": [
    "def dataset_transform(df, number):\n",
    "    # Transforming the dataset to get the number of flights per month\n",
    "    df_new = df.groupby(pd.to_datetime(df['depFlight_departure']).dt.month)['id'].nunique().reset_index(name='count')\n",
    "    \n",
    "    # Adding a new column indicating the week of the search\n",
    "    new_column_name = 'week_of_search'\n",
    "    new_column_values = [number] * len(df_new)\n",
    "    df_final = df_new.assign(**{new_column_name: new_column_values})\n",
    "    \n",
    "    return df_final"
   ]
  },
  {
   "cell_type": "code",
   "execution_count": 83,
   "metadata": {},
   "outputs": [],
   "source": [
    "athens_01 = dataset_transform(athens_01, 1)\n",
    "athens_02 = dataset_transform(athens_02, 2)\n",
    "athens_03 = dataset_transform(athens_03, 3)\n",
    "athens_04 = dataset_transform(athens_04, 4)\n",
    "athens_05 = dataset_transform(athens_05, 5)\n",
    "athens_06 = dataset_transform(athens_06, 6)"
   ]
  },
  {
   "cell_type": "code",
   "execution_count": 84,
   "metadata": {},
   "outputs": [],
   "source": [
    "athens_merged = pd.concat([athens_01, athens_02, athens_03, athens_04, athens_05, athens_06], axis=0)\n",
    "athens_merged = athens_merged.rename(columns={'depFlight_departure': 'travel_month'})"
   ]
  },
  {
   "cell_type": "code",
   "execution_count": 85,
   "metadata": {},
   "outputs": [
    {
     "data": {
      "text/html": [
       "<div>\n",
       "<style scoped>\n",
       "    .dataframe tbody tr th:only-of-type {\n",
       "        vertical-align: middle;\n",
       "    }\n",
       "\n",
       "    .dataframe tbody tr th {\n",
       "        vertical-align: top;\n",
       "    }\n",
       "\n",
       "    .dataframe thead th {\n",
       "        text-align: right;\n",
       "    }\n",
       "</style>\n",
       "<table border=\"1\" class=\"dataframe\">\n",
       "  <thead>\n",
       "    <tr style=\"text-align: right;\">\n",
       "      <th>travel_month</th>\n",
       "      <th>6</th>\n",
       "      <th>7</th>\n",
       "      <th>8</th>\n",
       "      <th>9</th>\n",
       "    </tr>\n",
       "    <tr>\n",
       "      <th>week_of_search</th>\n",
       "      <th></th>\n",
       "      <th></th>\n",
       "      <th></th>\n",
       "      <th></th>\n",
       "    </tr>\n",
       "  </thead>\n",
       "  <tbody>\n",
       "    <tr>\n",
       "      <th>1</th>\n",
       "      <td>86</td>\n",
       "      <td>67</td>\n",
       "      <td>65</td>\n",
       "      <td>78</td>\n",
       "    </tr>\n",
       "    <tr>\n",
       "      <th>2</th>\n",
       "      <td>84</td>\n",
       "      <td>73</td>\n",
       "      <td>75</td>\n",
       "      <td>88</td>\n",
       "    </tr>\n",
       "    <tr>\n",
       "      <th>3</th>\n",
       "      <td>98</td>\n",
       "      <td>73</td>\n",
       "      <td>74</td>\n",
       "      <td>88</td>\n",
       "    </tr>\n",
       "    <tr>\n",
       "      <th>4</th>\n",
       "      <td>97</td>\n",
       "      <td>74</td>\n",
       "      <td>75</td>\n",
       "      <td>90</td>\n",
       "    </tr>\n",
       "    <tr>\n",
       "      <th>5</th>\n",
       "      <td>93</td>\n",
       "      <td>74</td>\n",
       "      <td>75</td>\n",
       "      <td>90</td>\n",
       "    </tr>\n",
       "    <tr>\n",
       "      <th>6</th>\n",
       "      <td>90</td>\n",
       "      <td>73</td>\n",
       "      <td>72</td>\n",
       "      <td>89</td>\n",
       "    </tr>\n",
       "  </tbody>\n",
       "</table>\n",
       "</div>"
      ],
      "text/plain": [
       "travel_month     6   7   8   9\n",
       "week_of_search                \n",
       "1               86  67  65  78\n",
       "2               84  73  75  88\n",
       "3               98  73  74  88\n",
       "4               97  74  75  90\n",
       "5               93  74  75  90\n",
       "6               90  73  72  89"
      ]
     },
     "execution_count": 85,
     "metadata": {},
     "output_type": "execute_result"
    }
   ],
   "source": [
    "pd.pivot_table(athens_merged, values='count', index=['week_of_search'], columns=['travel_month'])"
   ]
  },
  {
   "attachments": {},
   "cell_type": "markdown",
   "metadata": {},
   "source": [
    "## 2. Berlin"
   ]
  },
  {
   "cell_type": "code",
   "execution_count": 86,
   "metadata": {},
   "outputs": [],
   "source": [
    "berlin_01 = pd.read_csv('../dep_flights/depFlights_0320/berlin_0320.csv')\n",
    "berlin_02 = pd.read_csv('../dep_flights/depFlights_0327/berlin_0327.csv')\n",
    "berlin_03 = pd.read_csv('../dep_flights/depFlights_0410/berlin_0410.csv')\n",
    "berlin_04 = pd.read_csv('../dep_flights/depFlights_0417/berlin_0417.csv')\n",
    "berlin_05 = pd.read_csv('../dep_flights/depFlights_0423/berlin_0423.csv')\n",
    "berlin_06 = pd.read_csv('../dep_flights/depFlights_0501/berlin_0501.csv')"
   ]
  },
  {
   "cell_type": "code",
   "execution_count": 87,
   "metadata": {},
   "outputs": [],
   "source": [
    "berlin_01 = dataset_transform(berlin_01, 1)\n",
    "berlin_02 = dataset_transform(berlin_02, 2)\n",
    "berlin_03 = dataset_transform(berlin_03, 3)\n",
    "berlin_04 = dataset_transform(berlin_04, 4)\n",
    "berlin_05 = dataset_transform(berlin_05, 5)\n",
    "berlin_06 = dataset_transform(berlin_06, 6)"
   ]
  },
  {
   "cell_type": "code",
   "execution_count": 88,
   "metadata": {},
   "outputs": [],
   "source": [
    "berlin_merged = pd.concat([berlin_01, berlin_02, berlin_03, berlin_04, berlin_05, berlin_06], axis=0)\n",
    "berlin_merged = berlin_merged.rename(columns={'depFlight_departure': 'travel_month'})"
   ]
  },
  {
   "cell_type": "code",
   "execution_count": 89,
   "metadata": {},
   "outputs": [
    {
     "data": {
      "text/html": [
       "<div>\n",
       "<style scoped>\n",
       "    .dataframe tbody tr th:only-of-type {\n",
       "        vertical-align: middle;\n",
       "    }\n",
       "\n",
       "    .dataframe tbody tr th {\n",
       "        vertical-align: top;\n",
       "    }\n",
       "\n",
       "    .dataframe thead th {\n",
       "        text-align: right;\n",
       "    }\n",
       "</style>\n",
       "<table border=\"1\" class=\"dataframe\">\n",
       "  <thead>\n",
       "    <tr style=\"text-align: right;\">\n",
       "      <th>travel_month</th>\n",
       "      <th>6</th>\n",
       "      <th>7</th>\n",
       "      <th>8</th>\n",
       "      <th>9</th>\n",
       "    </tr>\n",
       "    <tr>\n",
       "      <th>week_of_search</th>\n",
       "      <th></th>\n",
       "      <th></th>\n",
       "      <th></th>\n",
       "      <th></th>\n",
       "    </tr>\n",
       "  </thead>\n",
       "  <tbody>\n",
       "    <tr>\n",
       "      <th>1</th>\n",
       "      <td>80</td>\n",
       "      <td>64</td>\n",
       "      <td>62</td>\n",
       "      <td>80</td>\n",
       "    </tr>\n",
       "    <tr>\n",
       "      <th>2</th>\n",
       "      <td>78</td>\n",
       "      <td>64</td>\n",
       "      <td>62</td>\n",
       "      <td>79</td>\n",
       "    </tr>\n",
       "    <tr>\n",
       "      <th>3</th>\n",
       "      <td>78</td>\n",
       "      <td>64</td>\n",
       "      <td>62</td>\n",
       "      <td>79</td>\n",
       "    </tr>\n",
       "    <tr>\n",
       "      <th>4</th>\n",
       "      <td>78</td>\n",
       "      <td>64</td>\n",
       "      <td>62</td>\n",
       "      <td>79</td>\n",
       "    </tr>\n",
       "    <tr>\n",
       "      <th>5</th>\n",
       "      <td>78</td>\n",
       "      <td>64</td>\n",
       "      <td>62</td>\n",
       "      <td>79</td>\n",
       "    </tr>\n",
       "    <tr>\n",
       "      <th>6</th>\n",
       "      <td>82</td>\n",
       "      <td>64</td>\n",
       "      <td>62</td>\n",
       "      <td>79</td>\n",
       "    </tr>\n",
       "  </tbody>\n",
       "</table>\n",
       "</div>"
      ],
      "text/plain": [
       "travel_month     6   7   8   9\n",
       "week_of_search                \n",
       "1               80  64  62  80\n",
       "2               78  64  62  79\n",
       "3               78  64  62  79\n",
       "4               78  64  62  79\n",
       "5               78  64  62  79\n",
       "6               82  64  62  79"
      ]
     },
     "execution_count": 89,
     "metadata": {},
     "output_type": "execute_result"
    }
   ],
   "source": [
    "pd.pivot_table(berlin_merged, values='count', index=['week_of_search'], columns=['travel_month'])"
   ]
  },
  {
   "attachments": {},
   "cell_type": "markdown",
   "metadata": {},
   "source": [
    "## 3. Budapest"
   ]
  },
  {
   "cell_type": "code",
   "execution_count": 91,
   "metadata": {},
   "outputs": [],
   "source": [
    "budapest_01 = pd.read_csv('../dep_flights/depFlights_0320/budapest_0320.csv')\n",
    "budapest_02 = pd.read_csv('../dep_flights/depFlights_0327/budapest_0327.csv')\n",
    "budapest_03 = pd.read_csv('../dep_flights/depFlights_0410/budapest_0410.csv')\n",
    "budapest_04 = pd.read_csv('../dep_flights/depFlights_0417/budapest_0417.csv')\n",
    "budapest_05 = pd.read_csv('../dep_flights/depFlights_0423/budapest_0423csv.csv')\n",
    "budapest_06 = pd.read_csv('../dep_flights/depFlights_0501/budapest_0501.csv')"
   ]
  },
  {
   "cell_type": "code",
   "execution_count": 92,
   "metadata": {},
   "outputs": [],
   "source": [
    "budapest_01 = dataset_transform(budapest_01, 1)\n",
    "budapest_02 = dataset_transform(budapest_02, 2)\n",
    "budapest_03 = dataset_transform(budapest_03, 3)\n",
    "budapest_04 = dataset_transform(budapest_04, 4)\n",
    "budapest_05 = dataset_transform(budapest_05, 5)\n",
    "budapest_06 = dataset_transform(budapest_06, 6)"
   ]
  },
  {
   "cell_type": "code",
   "execution_count": 93,
   "metadata": {},
   "outputs": [],
   "source": [
    "budapest_merged = pd.concat([budapest_01, budapest_02, budapest_03, budapest_04, budapest_05, budapest_06], axis=0)\n",
    "budapest_merged = budapest_merged.rename(columns={'depFlight_departure': 'travel_month'})"
   ]
  },
  {
   "cell_type": "code",
   "execution_count": 94,
   "metadata": {},
   "outputs": [
    {
     "data": {
      "text/html": [
       "<div>\n",
       "<style scoped>\n",
       "    .dataframe tbody tr th:only-of-type {\n",
       "        vertical-align: middle;\n",
       "    }\n",
       "\n",
       "    .dataframe tbody tr th {\n",
       "        vertical-align: top;\n",
       "    }\n",
       "\n",
       "    .dataframe thead th {\n",
       "        text-align: right;\n",
       "    }\n",
       "</style>\n",
       "<table border=\"1\" class=\"dataframe\">\n",
       "  <thead>\n",
       "    <tr style=\"text-align: right;\">\n",
       "      <th>travel_month</th>\n",
       "      <th>6</th>\n",
       "      <th>7</th>\n",
       "      <th>8</th>\n",
       "      <th>9</th>\n",
       "    </tr>\n",
       "    <tr>\n",
       "      <th>week_of_search</th>\n",
       "      <th></th>\n",
       "      <th></th>\n",
       "      <th></th>\n",
       "      <th></th>\n",
       "    </tr>\n",
       "  </thead>\n",
       "  <tbody>\n",
       "    <tr>\n",
       "      <th>1</th>\n",
       "      <td>65</td>\n",
       "      <td>54</td>\n",
       "      <td>52</td>\n",
       "      <td>70</td>\n",
       "    </tr>\n",
       "    <tr>\n",
       "      <th>2</th>\n",
       "      <td>65</td>\n",
       "      <td>54</td>\n",
       "      <td>52</td>\n",
       "      <td>70</td>\n",
       "    </tr>\n",
       "    <tr>\n",
       "      <th>3</th>\n",
       "      <td>66</td>\n",
       "      <td>52</td>\n",
       "      <td>49</td>\n",
       "      <td>70</td>\n",
       "    </tr>\n",
       "    <tr>\n",
       "      <th>4</th>\n",
       "      <td>65</td>\n",
       "      <td>52</td>\n",
       "      <td>54</td>\n",
       "      <td>72</td>\n",
       "    </tr>\n",
       "    <tr>\n",
       "      <th>5</th>\n",
       "      <td>65</td>\n",
       "      <td>52</td>\n",
       "      <td>54</td>\n",
       "      <td>72</td>\n",
       "    </tr>\n",
       "    <tr>\n",
       "      <th>6</th>\n",
       "      <td>66</td>\n",
       "      <td>52</td>\n",
       "      <td>52</td>\n",
       "      <td>67</td>\n",
       "    </tr>\n",
       "  </tbody>\n",
       "</table>\n",
       "</div>"
      ],
      "text/plain": [
       "travel_month     6   7   8   9\n",
       "week_of_search                \n",
       "1               65  54  52  70\n",
       "2               65  54  52  70\n",
       "3               66  52  49  70\n",
       "4               65  52  54  72\n",
       "5               65  52  54  72\n",
       "6               66  52  52  67"
      ]
     },
     "execution_count": 94,
     "metadata": {},
     "output_type": "execute_result"
    }
   ],
   "source": [
    "pd.pivot_table(budapest_merged, values='count', index=['week_of_search'], columns=['travel_month'])"
   ]
  },
  {
   "attachments": {},
   "cell_type": "markdown",
   "metadata": {},
   "source": [
    "## 4. Lisbon"
   ]
  },
  {
   "cell_type": "code",
   "execution_count": 95,
   "metadata": {},
   "outputs": [],
   "source": [
    "lisbon_01 = pd.read_csv('../dep_flights/depFlights_0320/lisbon_0320.csv')\n",
    "lisbon_02 = pd.read_csv('../dep_flights/depFlights_0327/lisbon_0327.csv')\n",
    "lisbon_03 = pd.read_csv('../dep_flights/depFlights_0410/lisbon_0410.csv')\n",
    "lisbon_04 = pd.read_csv('../dep_flights/depFlights_0417/lisbon_0417.csv')\n",
    "lisbon_05 = pd.read_csv('../dep_flights/depFlights_0423/lisbon_0423.csv')\n",
    "lisbon_06 = pd.read_csv('../dep_flights/depFlights_0501/lisbon_0501.csv')"
   ]
  },
  {
   "cell_type": "code",
   "execution_count": 96,
   "metadata": {},
   "outputs": [],
   "source": [
    "lisbon_01 = dataset_transform(lisbon_01, 1)\n",
    "lisbon_02 = dataset_transform(lisbon_02, 2)\n",
    "lisbon_03 = dataset_transform(lisbon_03, 3)\n",
    "lisbon_04 = dataset_transform(lisbon_04, 4)\n",
    "lisbon_05 = dataset_transform(lisbon_05, 5)\n",
    "lisbon_06 = dataset_transform(lisbon_06, 6)"
   ]
  },
  {
   "cell_type": "code",
   "execution_count": 97,
   "metadata": {},
   "outputs": [],
   "source": [
    "lisbon_merged = pd.concat([lisbon_01, lisbon_02, lisbon_03, lisbon_04, lisbon_05, lisbon_06], axis=0)\n",
    "lisbon_merged = lisbon_merged.rename(columns={'depFlight_departure': 'travel_month'})"
   ]
  },
  {
   "cell_type": "code",
   "execution_count": 98,
   "metadata": {},
   "outputs": [
    {
     "data": {
      "text/html": [
       "<div>\n",
       "<style scoped>\n",
       "    .dataframe tbody tr th:only-of-type {\n",
       "        vertical-align: middle;\n",
       "    }\n",
       "\n",
       "    .dataframe tbody tr th {\n",
       "        vertical-align: top;\n",
       "    }\n",
       "\n",
       "    .dataframe thead th {\n",
       "        text-align: right;\n",
       "    }\n",
       "</style>\n",
       "<table border=\"1\" class=\"dataframe\">\n",
       "  <thead>\n",
       "    <tr style=\"text-align: right;\">\n",
       "      <th>travel_month</th>\n",
       "      <th>6</th>\n",
       "      <th>7</th>\n",
       "      <th>8</th>\n",
       "      <th>9</th>\n",
       "    </tr>\n",
       "    <tr>\n",
       "      <th>week_of_search</th>\n",
       "      <th></th>\n",
       "      <th></th>\n",
       "      <th></th>\n",
       "      <th></th>\n",
       "    </tr>\n",
       "  </thead>\n",
       "  <tbody>\n",
       "    <tr>\n",
       "      <th>1</th>\n",
       "      <td>106.0</td>\n",
       "      <td>87.0</td>\n",
       "      <td>88.0</td>\n",
       "      <td>109.0</td>\n",
       "    </tr>\n",
       "    <tr>\n",
       "      <th>2</th>\n",
       "      <td>NaN</td>\n",
       "      <td>NaN</td>\n",
       "      <td>NaN</td>\n",
       "      <td>16.0</td>\n",
       "    </tr>\n",
       "    <tr>\n",
       "      <th>3</th>\n",
       "      <td>NaN</td>\n",
       "      <td>NaN</td>\n",
       "      <td>NaN</td>\n",
       "      <td>16.0</td>\n",
       "    </tr>\n",
       "    <tr>\n",
       "      <th>4</th>\n",
       "      <td>NaN</td>\n",
       "      <td>NaN</td>\n",
       "      <td>NaN</td>\n",
       "      <td>16.0</td>\n",
       "    </tr>\n",
       "    <tr>\n",
       "      <th>5</th>\n",
       "      <td>NaN</td>\n",
       "      <td>NaN</td>\n",
       "      <td>NaN</td>\n",
       "      <td>16.0</td>\n",
       "    </tr>\n",
       "    <tr>\n",
       "      <th>6</th>\n",
       "      <td>NaN</td>\n",
       "      <td>NaN</td>\n",
       "      <td>NaN</td>\n",
       "      <td>16.0</td>\n",
       "    </tr>\n",
       "  </tbody>\n",
       "</table>\n",
       "</div>"
      ],
      "text/plain": [
       "travel_month        6     7     8      9\n",
       "week_of_search                          \n",
       "1               106.0  87.0  88.0  109.0\n",
       "2                 NaN   NaN   NaN   16.0\n",
       "3                 NaN   NaN   NaN   16.0\n",
       "4                 NaN   NaN   NaN   16.0\n",
       "5                 NaN   NaN   NaN   16.0\n",
       "6                 NaN   NaN   NaN   16.0"
      ]
     },
     "execution_count": 98,
     "metadata": {},
     "output_type": "execute_result"
    }
   ],
   "source": [
    "pd.pivot_table(lisbon_merged, values='count', index=['week_of_search'], columns=['travel_month'])"
   ]
  },
  {
   "attachments": {},
   "cell_type": "markdown",
   "metadata": {},
   "source": [
    "## 5. Madrid"
   ]
  },
  {
   "cell_type": "code",
   "execution_count": 99,
   "metadata": {},
   "outputs": [],
   "source": [
    "madrid_01 = pd.read_csv('../dep_flights/depFlights_0320/madrid_0320.csv')\n",
    "madrid_02 = pd.read_csv('../dep_flights/depFlights_0327/madrid_0327.csv')\n",
    "madrid_03 = pd.read_csv('../dep_flights/depFlights_0410/madrid_0410.csv')\n",
    "madrid_04 = pd.read_csv('../dep_flights/depFlights_0417/madrid_0417.csv')\n",
    "madrid_05 = pd.read_csv('../dep_flights/depFlights_0423/madrid_0423.csv')\n",
    "madrid_06 = pd.read_csv('../dep_flights/depFlights_0501/madrid_0501.csv')"
   ]
  },
  {
   "cell_type": "code",
   "execution_count": 100,
   "metadata": {},
   "outputs": [],
   "source": [
    "madrid_01 = dataset_transform(madrid_01, 1)\n",
    "madrid_02 = dataset_transform(madrid_02, 2)\n",
    "madrid_03 = dataset_transform(madrid_03, 3)\n",
    "madrid_04 = dataset_transform(madrid_04, 4)\n",
    "madrid_05 = dataset_transform(madrid_05, 5)\n",
    "madrid_06 = dataset_transform(madrid_06, 6)"
   ]
  },
  {
   "cell_type": "code",
   "execution_count": 101,
   "metadata": {},
   "outputs": [],
   "source": [
    "madrid_merged = pd.concat([madrid_01, madrid_02, madrid_03, madrid_04, madrid_05, madrid_06], axis=0)\n",
    "madrid_merged = madrid_merged.rename(columns={'depFlight_departure': 'travel_month'})"
   ]
  },
  {
   "cell_type": "code",
   "execution_count": 102,
   "metadata": {},
   "outputs": [
    {
     "data": {
      "text/html": [
       "<div>\n",
       "<style scoped>\n",
       "    .dataframe tbody tr th:only-of-type {\n",
       "        vertical-align: middle;\n",
       "    }\n",
       "\n",
       "    .dataframe tbody tr th {\n",
       "        vertical-align: top;\n",
       "    }\n",
       "\n",
       "    .dataframe thead th {\n",
       "        text-align: right;\n",
       "    }\n",
       "</style>\n",
       "<table border=\"1\" class=\"dataframe\">\n",
       "  <thead>\n",
       "    <tr style=\"text-align: right;\">\n",
       "      <th>travel_month</th>\n",
       "      <th>6</th>\n",
       "      <th>7</th>\n",
       "      <th>8</th>\n",
       "      <th>9</th>\n",
       "    </tr>\n",
       "    <tr>\n",
       "      <th>week_of_search</th>\n",
       "      <th></th>\n",
       "      <th></th>\n",
       "      <th></th>\n",
       "      <th></th>\n",
       "    </tr>\n",
       "  </thead>\n",
       "  <tbody>\n",
       "    <tr>\n",
       "      <th>1</th>\n",
       "      <td>233.0</td>\n",
       "      <td>176.0</td>\n",
       "      <td>146.0</td>\n",
       "      <td>236.0</td>\n",
       "    </tr>\n",
       "    <tr>\n",
       "      <th>2</th>\n",
       "      <td>NaN</td>\n",
       "      <td>NaN</td>\n",
       "      <td>NaN</td>\n",
       "      <td>50.0</td>\n",
       "    </tr>\n",
       "    <tr>\n",
       "      <th>3</th>\n",
       "      <td>NaN</td>\n",
       "      <td>NaN</td>\n",
       "      <td>NaN</td>\n",
       "      <td>50.0</td>\n",
       "    </tr>\n",
       "    <tr>\n",
       "      <th>4</th>\n",
       "      <td>NaN</td>\n",
       "      <td>NaN</td>\n",
       "      <td>NaN</td>\n",
       "      <td>50.0</td>\n",
       "    </tr>\n",
       "    <tr>\n",
       "      <th>5</th>\n",
       "      <td>NaN</td>\n",
       "      <td>NaN</td>\n",
       "      <td>NaN</td>\n",
       "      <td>50.0</td>\n",
       "    </tr>\n",
       "    <tr>\n",
       "      <th>6</th>\n",
       "      <td>NaN</td>\n",
       "      <td>NaN</td>\n",
       "      <td>NaN</td>\n",
       "      <td>49.0</td>\n",
       "    </tr>\n",
       "  </tbody>\n",
       "</table>\n",
       "</div>"
      ],
      "text/plain": [
       "travel_month        6      7      8      9\n",
       "week_of_search                            \n",
       "1               233.0  176.0  146.0  236.0\n",
       "2                 NaN    NaN    NaN   50.0\n",
       "3                 NaN    NaN    NaN   50.0\n",
       "4                 NaN    NaN    NaN   50.0\n",
       "5                 NaN    NaN    NaN   50.0\n",
       "6                 NaN    NaN    NaN   49.0"
      ]
     },
     "execution_count": 102,
     "metadata": {},
     "output_type": "execute_result"
    }
   ],
   "source": [
    "pd.pivot_table(madrid_merged, values='count', index=['week_of_search'], columns=['travel_month'])"
   ]
  },
  {
   "attachments": {},
   "cell_type": "markdown",
   "metadata": {},
   "source": [
    "## 6. Paris"
   ]
  },
  {
   "cell_type": "code",
   "execution_count": 103,
   "metadata": {},
   "outputs": [],
   "source": [
    "paris_01 = pd.read_csv('../dep_flights/depFlights_0320/paris_0320.csv')\n",
    "paris_02 = pd.read_csv('../dep_flights/depFlights_0327/paris_0327.csv')\n",
    "paris_03 = pd.read_csv('../dep_flights/depFlights_0410/paris_0410.csv')\n",
    "paris_04 = pd.read_csv('../dep_flights/depFlights_0417/paris_0417.csv')\n",
    "paris_05 = pd.read_csv('../dep_flights/depFlights_0423/paris_0423.csv')\n",
    "paris_06 = pd.read_csv('../dep_flights/depFlights_0501/paris_0501.csv')"
   ]
  },
  {
   "cell_type": "code",
   "execution_count": 104,
   "metadata": {},
   "outputs": [],
   "source": [
    "paris_01 = dataset_transform(paris_01, 1)\n",
    "paris_02 = dataset_transform(paris_02, 2)\n",
    "paris_03 = dataset_transform(paris_03, 3)\n",
    "paris_04 = dataset_transform(paris_04, 4)\n",
    "paris_05 = dataset_transform(paris_05, 5)\n",
    "paris_06 = dataset_transform(paris_06, 6)"
   ]
  },
  {
   "cell_type": "code",
   "execution_count": 105,
   "metadata": {},
   "outputs": [],
   "source": [
    "paris_merged = pd.concat([paris_01, paris_02, paris_03, paris_04, paris_05, paris_06], axis=0)\n",
    "paris_merged = paris_merged.rename(columns={'depFlight_departure': 'travel_month'})"
   ]
  },
  {
   "cell_type": "code",
   "execution_count": 106,
   "metadata": {},
   "outputs": [
    {
     "data": {
      "text/html": [
       "<div>\n",
       "<style scoped>\n",
       "    .dataframe tbody tr th:only-of-type {\n",
       "        vertical-align: middle;\n",
       "    }\n",
       "\n",
       "    .dataframe tbody tr th {\n",
       "        vertical-align: top;\n",
       "    }\n",
       "\n",
       "    .dataframe thead th {\n",
       "        text-align: right;\n",
       "    }\n",
       "</style>\n",
       "<table border=\"1\" class=\"dataframe\">\n",
       "  <thead>\n",
       "    <tr style=\"text-align: right;\">\n",
       "      <th>travel_month</th>\n",
       "      <th>6</th>\n",
       "      <th>7</th>\n",
       "      <th>8</th>\n",
       "      <th>9</th>\n",
       "    </tr>\n",
       "    <tr>\n",
       "      <th>week_of_search</th>\n",
       "      <th></th>\n",
       "      <th></th>\n",
       "      <th></th>\n",
       "      <th></th>\n",
       "    </tr>\n",
       "  </thead>\n",
       "  <tbody>\n",
       "    <tr>\n",
       "      <th>1</th>\n",
       "      <td>110</td>\n",
       "      <td>89</td>\n",
       "      <td>90</td>\n",
       "      <td>120</td>\n",
       "    </tr>\n",
       "    <tr>\n",
       "      <th>2</th>\n",
       "      <td>110</td>\n",
       "      <td>89</td>\n",
       "      <td>90</td>\n",
       "      <td>120</td>\n",
       "    </tr>\n",
       "    <tr>\n",
       "      <th>3</th>\n",
       "      <td>110</td>\n",
       "      <td>89</td>\n",
       "      <td>90</td>\n",
       "      <td>120</td>\n",
       "    </tr>\n",
       "    <tr>\n",
       "      <th>4</th>\n",
       "      <td>110</td>\n",
       "      <td>89</td>\n",
       "      <td>90</td>\n",
       "      <td>120</td>\n",
       "    </tr>\n",
       "    <tr>\n",
       "      <th>5</th>\n",
       "      <td>110</td>\n",
       "      <td>89</td>\n",
       "      <td>90</td>\n",
       "      <td>119</td>\n",
       "    </tr>\n",
       "    <tr>\n",
       "      <th>6</th>\n",
       "      <td>109</td>\n",
       "      <td>89</td>\n",
       "      <td>90</td>\n",
       "      <td>119</td>\n",
       "    </tr>\n",
       "  </tbody>\n",
       "</table>\n",
       "</div>"
      ],
      "text/plain": [
       "travel_month      6   7   8    9\n",
       "week_of_search                  \n",
       "1               110  89  90  120\n",
       "2               110  89  90  120\n",
       "3               110  89  90  120\n",
       "4               110  89  90  120\n",
       "5               110  89  90  119\n",
       "6               109  89  90  119"
      ]
     },
     "execution_count": 106,
     "metadata": {},
     "output_type": "execute_result"
    }
   ],
   "source": [
    "pd.pivot_table(paris_merged, values='count', index=['week_of_search'], columns=['travel_month'])"
   ]
  },
  {
   "attachments": {},
   "cell_type": "markdown",
   "metadata": {},
   "source": [
    "## 7. Rome"
   ]
  },
  {
   "cell_type": "code",
   "execution_count": 107,
   "metadata": {},
   "outputs": [],
   "source": [
    "rome_01 = pd.read_csv('../dep_flights/depFlights_0320/rome_0320.csv')\n",
    "rome_02 = pd.read_csv('../dep_flights/depFlights_0327/rome_0327.csv')\n",
    "rome_03 = pd.read_csv('../dep_flights/depFlights_0410/rome_0410.csv')\n",
    "rome_04 = pd.read_csv('../dep_flights/depFlights_0417/rome_0417.csv')\n",
    "rome_05 = pd.read_csv('../dep_flights/depFlights_0423/rome_0423.csv')\n",
    "rome_06 = pd.read_csv('../dep_flights/depFlights_0501/rome_0501.csv')"
   ]
  },
  {
   "cell_type": "code",
   "execution_count": 108,
   "metadata": {},
   "outputs": [],
   "source": [
    "rome_01 = dataset_transform(rome_01, 1)\n",
    "rome_02 = dataset_transform(rome_02, 2)\n",
    "rome_03 = dataset_transform(rome_03, 3)\n",
    "rome_04 = dataset_transform(rome_04, 4)\n",
    "rome_05 = dataset_transform(rome_05, 5)\n",
    "rome_06 = dataset_transform(rome_06, 6)"
   ]
  },
  {
   "cell_type": "code",
   "execution_count": 109,
   "metadata": {},
   "outputs": [],
   "source": [
    "rome_merged = pd.concat([rome_01, rome_02, rome_03, rome_04, rome_05, rome_06], axis=0)\n",
    "rome_merged = rome_merged.rename(columns={'depFlight_departure': 'travel_month'})"
   ]
  },
  {
   "cell_type": "code",
   "execution_count": 110,
   "metadata": {},
   "outputs": [
    {
     "data": {
      "text/html": [
       "<div>\n",
       "<style scoped>\n",
       "    .dataframe tbody tr th:only-of-type {\n",
       "        vertical-align: middle;\n",
       "    }\n",
       "\n",
       "    .dataframe tbody tr th {\n",
       "        vertical-align: top;\n",
       "    }\n",
       "\n",
       "    .dataframe thead th {\n",
       "        text-align: right;\n",
       "    }\n",
       "</style>\n",
       "<table border=\"1\" class=\"dataframe\">\n",
       "  <thead>\n",
       "    <tr style=\"text-align: right;\">\n",
       "      <th>travel_month</th>\n",
       "      <th>6</th>\n",
       "      <th>7</th>\n",
       "      <th>8</th>\n",
       "      <th>9</th>\n",
       "    </tr>\n",
       "    <tr>\n",
       "      <th>week_of_search</th>\n",
       "      <th></th>\n",
       "      <th></th>\n",
       "      <th></th>\n",
       "      <th></th>\n",
       "    </tr>\n",
       "  </thead>\n",
       "  <tbody>\n",
       "    <tr>\n",
       "      <th>1</th>\n",
       "      <td>140</td>\n",
       "      <td>111</td>\n",
       "      <td>114</td>\n",
       "      <td>150</td>\n",
       "    </tr>\n",
       "    <tr>\n",
       "      <th>2</th>\n",
       "      <td>134</td>\n",
       "      <td>111</td>\n",
       "      <td>114</td>\n",
       "      <td>148</td>\n",
       "    </tr>\n",
       "    <tr>\n",
       "      <th>3</th>\n",
       "      <td>146</td>\n",
       "      <td>119</td>\n",
       "      <td>122</td>\n",
       "      <td>158</td>\n",
       "    </tr>\n",
       "    <tr>\n",
       "      <th>4</th>\n",
       "      <td>146</td>\n",
       "      <td>115</td>\n",
       "      <td>122</td>\n",
       "      <td>160</td>\n",
       "    </tr>\n",
       "    <tr>\n",
       "      <th>5</th>\n",
       "      <td>148</td>\n",
       "      <td>119</td>\n",
       "      <td>122</td>\n",
       "      <td>164</td>\n",
       "    </tr>\n",
       "    <tr>\n",
       "      <th>6</th>\n",
       "      <td>145</td>\n",
       "      <td>116</td>\n",
       "      <td>118</td>\n",
       "      <td>155</td>\n",
       "    </tr>\n",
       "  </tbody>\n",
       "</table>\n",
       "</div>"
      ],
      "text/plain": [
       "travel_month      6    7    8    9\n",
       "week_of_search                    \n",
       "1               140  111  114  150\n",
       "2               134  111  114  148\n",
       "3               146  119  122  158\n",
       "4               146  115  122  160\n",
       "5               148  119  122  164\n",
       "6               145  116  118  155"
      ]
     },
     "execution_count": 110,
     "metadata": {},
     "output_type": "execute_result"
    }
   ],
   "source": [
    "pd.pivot_table(rome_merged, values='count', index=['week_of_search'], columns=['travel_month'])"
   ]
  }
 ],
 "metadata": {
  "kernelspec": {
   "display_name": "base",
   "language": "python",
   "name": "python3"
  },
  "language_info": {
   "codemirror_mode": {
    "name": "ipython",
    "version": 3
   },
   "file_extension": ".py",
   "mimetype": "text/x-python",
   "name": "python",
   "nbconvert_exporter": "python",
   "pygments_lexer": "ipython3",
   "version": "3.9.13"
  },
  "orig_nbformat": 4,
  "vscode": {
   "interpreter": {
    "hash": "f7bf2069b810f723d51afe45bf970fd6aedacb538a9ebde9724b1de83f31d4af"
   }
  }
 },
 "nbformat": 4,
 "nbformat_minor": 2
}
