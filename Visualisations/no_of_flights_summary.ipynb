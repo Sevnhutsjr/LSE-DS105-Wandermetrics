{
 "cells": [
  {
   "cell_type": "code",
   "execution_count": 1,
   "metadata": {},
   "outputs": [],
   "source": [
    "#Comparing number of flights between different time of searches\n",
    "\n",
    "import pandas as pd\n",
    "import datetime"
   ]
  },
  {
   "attachments": {},
   "cell_type": "markdown",
   "metadata": {},
   "source": [
    "## 0. Set Up Stage (Data Transformation Function)"
   ]
  },
  {
   "cell_type": "code",
   "execution_count": 2,
   "metadata": {},
   "outputs": [],
   "source": [
    "def dataset_transform(df, number):\n",
    "    # Transforming the dataset to get the number of flights per month\n",
    "    df_new = df.groupby(pd.to_datetime(df['depFlight_departure']).dt.month)['depFlight_id'].nunique().reset_index(name='count')\n",
    "    \n",
    "    # Adding a new column indicating the week of the search\n",
    "    new_column_name = 'week_of_search'\n",
    "    new_column_values = [number] * len(df_new)\n",
    "    df_final = df_new.assign(**{new_column_name: new_column_values})\n",
    "    \n",
    "    return df_final"
   ]
  },
  {
   "attachments": {},
   "cell_type": "markdown",
   "metadata": {},
   "source": [
    "## 1. Athens"
   ]
  },
  {
   "cell_type": "code",
   "execution_count": 3,
   "metadata": {},
   "outputs": [],
   "source": [
    "athens_01 = pd.read_csv('../dep&ret_flights/dep&ret_flights_0320/athens_0320.csv')\n",
    "athens_02 = pd.read_csv('../dep&ret_flights/dep&ret_flights_0327/athens_0327.csv')\n",
    "athens_03 = pd.read_csv('../dep&ret_flights/dep&ret_flights_0403/athens_0403.csv')\n",
    "athens_04 = pd.read_csv('../dep&ret_flights/dep&ret_flights_0410/athens_0410.csv')\n",
    "athens_05 = pd.read_csv('../dep&ret_flights/dep&ret_flights_0417/athens_0417.csv')\n",
    "athens_06 = pd.read_csv('../dep&ret_flights/dep&ret_flights_0423/athens_0423.csv')\n",
    "athens_07 = pd.read_csv('../dep&ret_flights/dep&ret_flights_0501/athens_0501.csv')"
   ]
  },
  {
   "cell_type": "code",
   "execution_count": 4,
   "metadata": {},
   "outputs": [],
   "source": [
    "athens_01 = dataset_transform(athens_01, 1)\n",
    "athens_02 = dataset_transform(athens_02, 2)\n",
    "athens_03 = dataset_transform(athens_03, 3)\n",
    "athens_04 = dataset_transform(athens_04, 4)\n",
    "athens_05 = dataset_transform(athens_05, 5)\n",
    "athens_06 = dataset_transform(athens_06, 6)\n",
    "athens_07 = dataset_transform(athens_07, 7)"
   ]
  },
  {
   "cell_type": "code",
   "execution_count": 5,
   "metadata": {},
   "outputs": [],
   "source": [
    "athens_merged = pd.concat([athens_01, athens_02, athens_03, athens_04, athens_05, athens_06, athens_07], axis=0)\n",
    "athens_merged = athens_merged.rename(columns={'depFlight_departure': 'travel_month'})"
   ]
  },
  {
   "cell_type": "code",
   "execution_count": 13,
   "metadata": {},
   "outputs": [
    {
     "data": {
      "text/html": [
       "<style type=\"text/css\">\n",
       "#T_3e5bc caption {\n",
       "  color: CadetBlue;\n",
       "  font-size: 12px;\n",
       "}\n",
       "</style>\n",
       "<table id=\"T_3e5bc\">\n",
       "  <caption>Table: Changes in Number of Flights for Athens</caption>\n",
       "  <thead>\n",
       "    <tr>\n",
       "      <th class=\"index_name level0\" >travel_month</th>\n",
       "      <th id=\"T_3e5bc_level0_col0\" class=\"col_heading level0 col0\" >6</th>\n",
       "      <th id=\"T_3e5bc_level0_col1\" class=\"col_heading level0 col1\" >7</th>\n",
       "      <th id=\"T_3e5bc_level0_col2\" class=\"col_heading level0 col2\" >8</th>\n",
       "      <th id=\"T_3e5bc_level0_col3\" class=\"col_heading level0 col3\" >9</th>\n",
       "    </tr>\n",
       "    <tr>\n",
       "      <th class=\"index_name level0\" >week_of_search</th>\n",
       "      <th class=\"blank col0\" >&nbsp;</th>\n",
       "      <th class=\"blank col1\" >&nbsp;</th>\n",
       "      <th class=\"blank col2\" >&nbsp;</th>\n",
       "      <th class=\"blank col3\" >&nbsp;</th>\n",
       "    </tr>\n",
       "  </thead>\n",
       "  <tbody>\n",
       "    <tr>\n",
       "      <th id=\"T_3e5bc_level0_row0\" class=\"row_heading level0 row0\" >1</th>\n",
       "      <td id=\"T_3e5bc_row0_col0\" class=\"data row0 col0\" >86</td>\n",
       "      <td id=\"T_3e5bc_row0_col1\" class=\"data row0 col1\" >67</td>\n",
       "      <td id=\"T_3e5bc_row0_col2\" class=\"data row0 col2\" >66</td>\n",
       "      <td id=\"T_3e5bc_row0_col3\" class=\"data row0 col3\" >78</td>\n",
       "    </tr>\n",
       "    <tr>\n",
       "      <th id=\"T_3e5bc_level0_row1\" class=\"row_heading level0 row1\" >2</th>\n",
       "      <td id=\"T_3e5bc_row1_col0\" class=\"data row1 col0\" >95</td>\n",
       "      <td id=\"T_3e5bc_row1_col1\" class=\"data row1 col1\" >74</td>\n",
       "      <td id=\"T_3e5bc_row1_col2\" class=\"data row1 col2\" >74</td>\n",
       "      <td id=\"T_3e5bc_row1_col3\" class=\"data row1 col3\" >89</td>\n",
       "    </tr>\n",
       "    <tr>\n",
       "      <th id=\"T_3e5bc_level0_row2\" class=\"row_heading level0 row2\" >3</th>\n",
       "      <td id=\"T_3e5bc_row2_col0\" class=\"data row2 col0\" >95</td>\n",
       "      <td id=\"T_3e5bc_row2_col1\" class=\"data row2 col1\" >74</td>\n",
       "      <td id=\"T_3e5bc_row2_col2\" class=\"data row2 col2\" >72</td>\n",
       "      <td id=\"T_3e5bc_row2_col3\" class=\"data row2 col3\" >86</td>\n",
       "    </tr>\n",
       "    <tr>\n",
       "      <th id=\"T_3e5bc_level0_row3\" class=\"row_heading level0 row3\" >4</th>\n",
       "      <td id=\"T_3e5bc_row3_col0\" class=\"data row3 col0\" >96</td>\n",
       "      <td id=\"T_3e5bc_row3_col1\" class=\"data row3 col1\" >74</td>\n",
       "      <td id=\"T_3e5bc_row3_col2\" class=\"data row3 col2\" >70</td>\n",
       "      <td id=\"T_3e5bc_row3_col3\" class=\"data row3 col3\" >86</td>\n",
       "    </tr>\n",
       "    <tr>\n",
       "      <th id=\"T_3e5bc_level0_row4\" class=\"row_heading level0 row4\" >5</th>\n",
       "      <td id=\"T_3e5bc_row4_col0\" class=\"data row4 col0\" >93</td>\n",
       "      <td id=\"T_3e5bc_row4_col1\" class=\"data row4 col1\" >74</td>\n",
       "      <td id=\"T_3e5bc_row4_col2\" class=\"data row4 col2\" >76</td>\n",
       "      <td id=\"T_3e5bc_row4_col3\" class=\"data row4 col3\" >92</td>\n",
       "    </tr>\n",
       "    <tr>\n",
       "      <th id=\"T_3e5bc_level0_row5\" class=\"row_heading level0 row5\" >6</th>\n",
       "      <td id=\"T_3e5bc_row5_col0\" class=\"data row5 col0\" >93</td>\n",
       "      <td id=\"T_3e5bc_row5_col1\" class=\"data row5 col1\" >74</td>\n",
       "      <td id=\"T_3e5bc_row5_col2\" class=\"data row5 col2\" >74</td>\n",
       "      <td id=\"T_3e5bc_row5_col3\" class=\"data row5 col3\" >91</td>\n",
       "    </tr>\n",
       "    <tr>\n",
       "      <th id=\"T_3e5bc_level0_row6\" class=\"row_heading level0 row6\" >7</th>\n",
       "      <td id=\"T_3e5bc_row6_col0\" class=\"data row6 col0\" >93</td>\n",
       "      <td id=\"T_3e5bc_row6_col1\" class=\"data row6 col1\" >74</td>\n",
       "      <td id=\"T_3e5bc_row6_col2\" class=\"data row6 col2\" >76</td>\n",
       "      <td id=\"T_3e5bc_row6_col3\" class=\"data row6 col3\" >91</td>\n",
       "    </tr>\n",
       "  </tbody>\n",
       "</table>\n"
      ],
      "text/plain": [
       "<pandas.io.formats.style.Styler at 0x7fde3a5af700>"
      ]
     },
     "execution_count": 13,
     "metadata": {},
     "output_type": "execute_result"
    }
   ],
   "source": [
    "Athens=pd.pivot_table(athens_merged, values='count', index=['week_of_search'], columns=['travel_month'])\n",
    "title_athens = 'Table: Changes in Number of Flights for Athens'\n",
    "Athens = (\n",
    "    Athens.style\n",
    "    .set_caption(title_athens)\n",
    "    .set_table_styles([\n",
    "        {'selector': 'caption', 'props': [('color', 'CadetBlue'), ('font-size', '12px')]}\n",
    "    ])\n",
    ")\n",
    "Athens"
   ]
  },
  {
   "attachments": {},
   "cell_type": "markdown",
   "metadata": {},
   "source": [
    "## 2. Berlin"
   ]
  },
  {
   "cell_type": "code",
   "execution_count": 14,
   "metadata": {},
   "outputs": [],
   "source": [
    "berlin_01 = pd.read_csv('../dep&ret_flights/dep&ret_flights_0320/berlin_0320.csv')\n",
    "berlin_02 = pd.read_csv('../dep&ret_flights/dep&ret_flights_0327/berlin_0327.csv')\n",
    "berlin_03 = pd.read_csv('../dep&ret_flights/dep&ret_flights_0403/berlin_0403.csv')\n",
    "berlin_04 = pd.read_csv('../dep&ret_flights/dep&ret_flights_0410/berlin_0410.csv')\n",
    "berlin_05 = pd.read_csv('../dep&ret_flights/dep&ret_flights_0417/berlin_0417.csv')\n",
    "berlin_06 = pd.read_csv('../dep&ret_flights/dep&ret_flights_0423/berlin_0423.csv')\n",
    "berlin_07 = pd.read_csv('../dep&ret_flights/dep&ret_flights_0501/berlin_0501.csv')"
   ]
  },
  {
   "cell_type": "code",
   "execution_count": 15,
   "metadata": {},
   "outputs": [],
   "source": [
    "berlin_01 = dataset_transform(berlin_01, 1)\n",
    "berlin_02 = dataset_transform(berlin_02, 2)\n",
    "berlin_03 = dataset_transform(berlin_03, 3)\n",
    "berlin_04 = dataset_transform(berlin_04, 4)\n",
    "berlin_05 = dataset_transform(berlin_05, 5)\n",
    "berlin_06 = dataset_transform(berlin_06, 6)\n",
    "berlin_07 = dataset_transform(berlin_07, 7)"
   ]
  },
  {
   "cell_type": "code",
   "execution_count": 16,
   "metadata": {},
   "outputs": [],
   "source": [
    "berlin_merged = pd.concat([berlin_01, berlin_02, berlin_03, berlin_04, berlin_05, berlin_06, berlin_07], axis=0)\n",
    "berlin_merged = berlin_merged.rename(columns={'depFlight_departure': 'travel_month'})"
   ]
  },
  {
   "cell_type": "code",
   "execution_count": 22,
   "metadata": {},
   "outputs": [
    {
     "data": {
      "text/html": [
       "<style type=\"text/css\">\n",
       "#T_81847 caption {\n",
       "  color: green;\n",
       "  font-size: 12px;\n",
       "}\n",
       "</style>\n",
       "<table id=\"T_81847\">\n",
       "  <caption>Table: Changes in Number of Flights for Berlin</caption>\n",
       "  <thead>\n",
       "    <tr>\n",
       "      <th class=\"index_name level0\" >travel_month</th>\n",
       "      <th id=\"T_81847_level0_col0\" class=\"col_heading level0 col0\" >6</th>\n",
       "      <th id=\"T_81847_level0_col1\" class=\"col_heading level0 col1\" >7</th>\n",
       "      <th id=\"T_81847_level0_col2\" class=\"col_heading level0 col2\" >8</th>\n",
       "      <th id=\"T_81847_level0_col3\" class=\"col_heading level0 col3\" >9</th>\n",
       "    </tr>\n",
       "    <tr>\n",
       "      <th class=\"index_name level0\" >week_of_search</th>\n",
       "      <th class=\"blank col0\" >&nbsp;</th>\n",
       "      <th class=\"blank col1\" >&nbsp;</th>\n",
       "      <th class=\"blank col2\" >&nbsp;</th>\n",
       "      <th class=\"blank col3\" >&nbsp;</th>\n",
       "    </tr>\n",
       "  </thead>\n",
       "  <tbody>\n",
       "    <tr>\n",
       "      <th id=\"T_81847_level0_row0\" class=\"row_heading level0 row0\" >1</th>\n",
       "      <td id=\"T_81847_row0_col0\" class=\"data row0 col0\" >80</td>\n",
       "      <td id=\"T_81847_row0_col1\" class=\"data row0 col1\" >64</td>\n",
       "      <td id=\"T_81847_row0_col2\" class=\"data row0 col2\" >62</td>\n",
       "      <td id=\"T_81847_row0_col3\" class=\"data row0 col3\" >80</td>\n",
       "    </tr>\n",
       "    <tr>\n",
       "      <th id=\"T_81847_level0_row1\" class=\"row_heading level0 row1\" >2</th>\n",
       "      <td id=\"T_81847_row1_col0\" class=\"data row1 col0\" >78</td>\n",
       "      <td id=\"T_81847_row1_col1\" class=\"data row1 col1\" >64</td>\n",
       "      <td id=\"T_81847_row1_col2\" class=\"data row1 col2\" >62</td>\n",
       "      <td id=\"T_81847_row1_col3\" class=\"data row1 col3\" >79</td>\n",
       "    </tr>\n",
       "    <tr>\n",
       "      <th id=\"T_81847_level0_row2\" class=\"row_heading level0 row2\" >3</th>\n",
       "      <td id=\"T_81847_row2_col0\" class=\"data row2 col0\" >83</td>\n",
       "      <td id=\"T_81847_row2_col1\" class=\"data row2 col1\" >68</td>\n",
       "      <td id=\"T_81847_row2_col2\" class=\"data row2 col2\" >64</td>\n",
       "      <td id=\"T_81847_row2_col3\" class=\"data row2 col3\" >81</td>\n",
       "    </tr>\n",
       "    <tr>\n",
       "      <th id=\"T_81847_level0_row3\" class=\"row_heading level0 row3\" >4</th>\n",
       "      <td id=\"T_81847_row3_col0\" class=\"data row3 col0\" >78</td>\n",
       "      <td id=\"T_81847_row3_col1\" class=\"data row3 col1\" >64</td>\n",
       "      <td id=\"T_81847_row3_col2\" class=\"data row3 col2\" >62</td>\n",
       "      <td id=\"T_81847_row3_col3\" class=\"data row3 col3\" >79</td>\n",
       "    </tr>\n",
       "    <tr>\n",
       "      <th id=\"T_81847_level0_row4\" class=\"row_heading level0 row4\" >5</th>\n",
       "      <td id=\"T_81847_row4_col0\" class=\"data row4 col0\" >78</td>\n",
       "      <td id=\"T_81847_row4_col1\" class=\"data row4 col1\" >53</td>\n",
       "      <td id=\"T_81847_row4_col2\" class=\"data row4 col2\" >53</td>\n",
       "      <td id=\"T_81847_row4_col3\" class=\"data row4 col3\" >79</td>\n",
       "    </tr>\n",
       "    <tr>\n",
       "      <th id=\"T_81847_level0_row5\" class=\"row_heading level0 row5\" >6</th>\n",
       "      <td id=\"T_81847_row5_col0\" class=\"data row5 col0\" >83</td>\n",
       "      <td id=\"T_81847_row5_col1\" class=\"data row5 col1\" >64</td>\n",
       "      <td id=\"T_81847_row5_col2\" class=\"data row5 col2\" >62</td>\n",
       "      <td id=\"T_81847_row5_col3\" class=\"data row5 col3\" >79</td>\n",
       "    </tr>\n",
       "    <tr>\n",
       "      <th id=\"T_81847_level0_row6\" class=\"row_heading level0 row6\" >7</th>\n",
       "      <td id=\"T_81847_row6_col0\" class=\"data row6 col0\" >83</td>\n",
       "      <td id=\"T_81847_row6_col1\" class=\"data row6 col1\" >64</td>\n",
       "      <td id=\"T_81847_row6_col2\" class=\"data row6 col2\" >62</td>\n",
       "      <td id=\"T_81847_row6_col3\" class=\"data row6 col3\" >79</td>\n",
       "    </tr>\n",
       "  </tbody>\n",
       "</table>\n"
      ],
      "text/plain": [
       "<pandas.io.formats.style.Styler at 0x7fde3a681c70>"
      ]
     },
     "execution_count": 22,
     "metadata": {},
     "output_type": "execute_result"
    }
   ],
   "source": [
    "Berlin=pd.pivot_table(berlin_merged, values='count', index=['week_of_search'], columns=['travel_month'])\n",
    "title_berlin = 'Table: Changes in Number of Flights for Berlin'\n",
    "Berlin = (\n",
    "    Berlin.style\n",
    "    .set_caption(title_berlin)\n",
    "    .set_table_styles([\n",
    "        {'selector': 'caption', 'props': [('color', 'green'), ('font-size', '12px')]}\n",
    "    ])\n",
    ")\n",
    "Berlin"
   ]
  },
  {
   "attachments": {},
   "cell_type": "markdown",
   "metadata": {},
   "source": [
    "## 3. Budapest"
   ]
  },
  {
   "cell_type": "code",
   "execution_count": 19,
   "metadata": {},
   "outputs": [],
   "source": [
    "budapest_01 = pd.read_csv('../dep&ret_flights/dep&ret_flights_0320/budapest_0320.csv')\n",
    "budapest_02 = pd.read_csv('../dep&ret_flights/dep&ret_flights_0327/budapest_0327.csv')\n",
    "budapest_03 = pd.read_csv('../dep&ret_flights/dep&ret_flights_0403/budapest_0403.csv')\n",
    "budapest_04 = pd.read_csv('../dep&ret_flights/dep&ret_flights_0410/budapest_0410.csv')\n",
    "budapest_05 = pd.read_csv('../dep&ret_flights/dep&ret_flights_0417/budapest_0417.csv')\n",
    "budapest_06 = pd.read_csv('../dep&ret_flights/dep&ret_flights_0423/budapest_0423.csv')\n",
    "budapest_07 = pd.read_csv('../dep&ret_flights/dep&ret_flights_0501/budapest_0501.csv')"
   ]
  },
  {
   "cell_type": "code",
   "execution_count": 20,
   "metadata": {},
   "outputs": [],
   "source": [
    "budapest_01 = dataset_transform(budapest_01, 1)\n",
    "budapest_02 = dataset_transform(budapest_02, 2)\n",
    "budapest_03 = dataset_transform(budapest_03, 3)\n",
    "budapest_04 = dataset_transform(budapest_04, 4)\n",
    "budapest_05 = dataset_transform(budapest_05, 5)\n",
    "budapest_06 = dataset_transform(budapest_06, 6)\n",
    "budapest_07 = dataset_transform(budapest_07, 7)"
   ]
  },
  {
   "cell_type": "code",
   "execution_count": 21,
   "metadata": {},
   "outputs": [],
   "source": [
    "budapest_merged = pd.concat([budapest_01, budapest_02, budapest_03, budapest_04, budapest_05, budapest_06, budapest_07], axis=0)\n",
    "budapest_merged = budapest_merged.rename(columns={'depFlight_departure': 'travel_month'})"
   ]
  },
  {
   "cell_type": "code",
   "execution_count": 24,
   "metadata": {},
   "outputs": [
    {
     "data": {
      "text/html": [
       "<style type=\"text/css\">\n",
       "#T_b32ee caption {\n",
       "  color: brown;\n",
       "  font-size: 12px;\n",
       "}\n",
       "</style>\n",
       "<table id=\"T_b32ee\">\n",
       "  <caption>Table: Changes in Number of Flights for Budapest</caption>\n",
       "  <thead>\n",
       "    <tr>\n",
       "      <th class=\"index_name level0\" >travel_month</th>\n",
       "      <th id=\"T_b32ee_level0_col0\" class=\"col_heading level0 col0\" >6</th>\n",
       "      <th id=\"T_b32ee_level0_col1\" class=\"col_heading level0 col1\" >7</th>\n",
       "      <th id=\"T_b32ee_level0_col2\" class=\"col_heading level0 col2\" >8</th>\n",
       "      <th id=\"T_b32ee_level0_col3\" class=\"col_heading level0 col3\" >9</th>\n",
       "    </tr>\n",
       "    <tr>\n",
       "      <th class=\"index_name level0\" >week_of_search</th>\n",
       "      <th class=\"blank col0\" >&nbsp;</th>\n",
       "      <th class=\"blank col1\" >&nbsp;</th>\n",
       "      <th class=\"blank col2\" >&nbsp;</th>\n",
       "      <th class=\"blank col3\" >&nbsp;</th>\n",
       "    </tr>\n",
       "  </thead>\n",
       "  <tbody>\n",
       "    <tr>\n",
       "      <th id=\"T_b32ee_level0_row0\" class=\"row_heading level0 row0\" >1</th>\n",
       "      <td id=\"T_b32ee_row0_col0\" class=\"data row0 col0\" >65</td>\n",
       "      <td id=\"T_b32ee_row0_col1\" class=\"data row0 col1\" >55</td>\n",
       "      <td id=\"T_b32ee_row0_col2\" class=\"data row0 col2\" >52</td>\n",
       "      <td id=\"T_b32ee_row0_col3\" class=\"data row0 col3\" >70</td>\n",
       "    </tr>\n",
       "    <tr>\n",
       "      <th id=\"T_b32ee_level0_row1\" class=\"row_heading level0 row1\" >2</th>\n",
       "      <td id=\"T_b32ee_row1_col0\" class=\"data row1 col0\" >65</td>\n",
       "      <td id=\"T_b32ee_row1_col1\" class=\"data row1 col1\" >55</td>\n",
       "      <td id=\"T_b32ee_row1_col2\" class=\"data row1 col2\" >52</td>\n",
       "      <td id=\"T_b32ee_row1_col3\" class=\"data row1 col3\" >70</td>\n",
       "    </tr>\n",
       "    <tr>\n",
       "      <th id=\"T_b32ee_level0_row2\" class=\"row_heading level0 row2\" >3</th>\n",
       "      <td id=\"T_b32ee_row2_col0\" class=\"data row2 col0\" >65</td>\n",
       "      <td id=\"T_b32ee_row2_col1\" class=\"data row2 col1\" >55</td>\n",
       "      <td id=\"T_b32ee_row2_col2\" class=\"data row2 col2\" >52</td>\n",
       "      <td id=\"T_b32ee_row2_col3\" class=\"data row2 col3\" >70</td>\n",
       "    </tr>\n",
       "    <tr>\n",
       "      <th id=\"T_b32ee_level0_row3\" class=\"row_heading level0 row3\" >4</th>\n",
       "      <td id=\"T_b32ee_row3_col0\" class=\"data row3 col0\" >66</td>\n",
       "      <td id=\"T_b32ee_row3_col1\" class=\"data row3 col1\" >53</td>\n",
       "      <td id=\"T_b32ee_row3_col2\" class=\"data row3 col2\" >52</td>\n",
       "      <td id=\"T_b32ee_row3_col3\" class=\"data row3 col3\" >70</td>\n",
       "    </tr>\n",
       "    <tr>\n",
       "      <th id=\"T_b32ee_level0_row4\" class=\"row_heading level0 row4\" >5</th>\n",
       "      <td id=\"T_b32ee_row4_col0\" class=\"data row4 col0\" >66</td>\n",
       "      <td id=\"T_b32ee_row4_col1\" class=\"data row4 col1\" >53</td>\n",
       "      <td id=\"T_b32ee_row4_col2\" class=\"data row4 col2\" >54</td>\n",
       "      <td id=\"T_b32ee_row4_col3\" class=\"data row4 col3\" >73</td>\n",
       "    </tr>\n",
       "    <tr>\n",
       "      <th id=\"T_b32ee_level0_row5\" class=\"row_heading level0 row5\" >6</th>\n",
       "      <td id=\"T_b32ee_row5_col0\" class=\"data row5 col0\" >66</td>\n",
       "      <td id=\"T_b32ee_row5_col1\" class=\"data row5 col1\" >53</td>\n",
       "      <td id=\"T_b32ee_row5_col2\" class=\"data row5 col2\" >52</td>\n",
       "      <td id=\"T_b32ee_row5_col3\" class=\"data row5 col3\" >69</td>\n",
       "    </tr>\n",
       "    <tr>\n",
       "      <th id=\"T_b32ee_level0_row6\" class=\"row_heading level0 row6\" >7</th>\n",
       "      <td id=\"T_b32ee_row6_col0\" class=\"data row6 col0\" >66</td>\n",
       "      <td id=\"T_b32ee_row6_col1\" class=\"data row6 col1\" >53</td>\n",
       "      <td id=\"T_b32ee_row6_col2\" class=\"data row6 col2\" >52</td>\n",
       "      <td id=\"T_b32ee_row6_col3\" class=\"data row6 col3\" >69</td>\n",
       "    </tr>\n",
       "  </tbody>\n",
       "</table>\n"
      ],
      "text/plain": [
       "<pandas.io.formats.style.Styler at 0x7fde3a681f40>"
      ]
     },
     "execution_count": 24,
     "metadata": {},
     "output_type": "execute_result"
    }
   ],
   "source": [
    "Budapest = pd.pivot_table(budapest_merged, values='count', index=['week_of_search'], columns=['travel_month'])\n",
    "title_bud = 'Table: Changes in Number of Flights for Budapest'\n",
    "Budapest = (\n",
    "    Budapest.style\n",
    "    .set_caption(title_bud)\n",
    "    .set_table_styles([\n",
    "        {'selector': 'caption', 'props': [('color', 'brown'), ('font-size', '12px')]}\n",
    "    ])\n",
    ")\n",
    "Budapest"
   ]
  },
  {
   "attachments": {},
   "cell_type": "markdown",
   "metadata": {},
   "source": [
    "## 4. Lisbon"
   ]
  },
  {
   "cell_type": "code",
   "execution_count": 25,
   "metadata": {},
   "outputs": [],
   "source": [
    "lisbon_01 = pd.read_csv('../dep&ret_flights/dep&ret_flights_0320/lisbon_0320.csv')\n",
    "lisbon_02 = pd.read_csv('../dep&ret_flights/dep&ret_flights_0327/lisbon_0327.csv')\n",
    "lisbon_03 = pd.read_csv('../dep&ret_flights/dep&ret_flights_0403/lisbon_0403.csv')\n",
    "lisbon_04 = pd.read_csv('../dep&ret_flights/dep&ret_flights_0410/lisbon_0410.csv')\n",
    "lisbon_05 = pd.read_csv('../dep&ret_flights/dep&ret_flights_0417/lisbon_0417.csv')\n",
    "lisbon_06 = pd.read_csv('../dep&ret_flights/dep&ret_flights_0423/lisbon_0423.csv')\n",
    "lisbon_07 = pd.read_csv('../dep&ret_flights/dep&ret_flights_0501/lisbon_0501.csv')"
   ]
  },
  {
   "cell_type": "code",
   "execution_count": 26,
   "metadata": {},
   "outputs": [],
   "source": [
    "lisbon_01 = dataset_transform(lisbon_01, 1)\n",
    "lisbon_02 = dataset_transform(lisbon_02, 2)\n",
    "lisbon_03 = dataset_transform(lisbon_03, 3)\n",
    "lisbon_04 = dataset_transform(lisbon_04, 4)\n",
    "lisbon_05 = dataset_transform(lisbon_05, 5)\n",
    "lisbon_06 = dataset_transform(lisbon_06, 6)\n",
    "lisbon_07 = dataset_transform(lisbon_07, 7)"
   ]
  },
  {
   "cell_type": "code",
   "execution_count": 27,
   "metadata": {},
   "outputs": [],
   "source": [
    "lisbon_merged = pd.concat([lisbon_01, lisbon_02, lisbon_03, lisbon_04, lisbon_05, lisbon_06, lisbon_07], axis=0)\n",
    "lisbon_merged = lisbon_merged.rename(columns={'depFlight_departure': 'travel_month'})"
   ]
  },
  {
   "cell_type": "code",
   "execution_count": 28,
   "metadata": {},
   "outputs": [
    {
     "data": {
      "text/html": [
       "<style type=\"text/css\">\n",
       "#T_5574b caption {\n",
       "  color: purple;\n",
       "  font-size: 12px;\n",
       "}\n",
       "</style>\n",
       "<table id=\"T_5574b\">\n",
       "  <caption>Table: Changes in Number of Flights for Lisbon</caption>\n",
       "  <thead>\n",
       "    <tr>\n",
       "      <th class=\"index_name level0\" >travel_month</th>\n",
       "      <th id=\"T_5574b_level0_col0\" class=\"col_heading level0 col0\" >6</th>\n",
       "      <th id=\"T_5574b_level0_col1\" class=\"col_heading level0 col1\" >7</th>\n",
       "      <th id=\"T_5574b_level0_col2\" class=\"col_heading level0 col2\" >8</th>\n",
       "      <th id=\"T_5574b_level0_col3\" class=\"col_heading level0 col3\" >9</th>\n",
       "    </tr>\n",
       "    <tr>\n",
       "      <th class=\"index_name level0\" >week_of_search</th>\n",
       "      <th class=\"blank col0\" >&nbsp;</th>\n",
       "      <th class=\"blank col1\" >&nbsp;</th>\n",
       "      <th class=\"blank col2\" >&nbsp;</th>\n",
       "      <th class=\"blank col3\" >&nbsp;</th>\n",
       "    </tr>\n",
       "  </thead>\n",
       "  <tbody>\n",
       "    <tr>\n",
       "      <th id=\"T_5574b_level0_row0\" class=\"row_heading level0 row0\" >1</th>\n",
       "      <td id=\"T_5574b_row0_col0\" class=\"data row0 col0\" >107</td>\n",
       "      <td id=\"T_5574b_row0_col1\" class=\"data row0 col1\" >87</td>\n",
       "      <td id=\"T_5574b_row0_col2\" class=\"data row0 col2\" >88</td>\n",
       "      <td id=\"T_5574b_row0_col3\" class=\"data row0 col3\" >109</td>\n",
       "    </tr>\n",
       "    <tr>\n",
       "      <th id=\"T_5574b_level0_row1\" class=\"row_heading level0 row1\" >2</th>\n",
       "      <td id=\"T_5574b_row1_col0\" class=\"data row1 col0\" >96</td>\n",
       "      <td id=\"T_5574b_row1_col1\" class=\"data row1 col1\" >91</td>\n",
       "      <td id=\"T_5574b_row1_col2\" class=\"data row1 col2\" >92</td>\n",
       "      <td id=\"T_5574b_row1_col3\" class=\"data row1 col3\" >113</td>\n",
       "    </tr>\n",
       "    <tr>\n",
       "      <th id=\"T_5574b_level0_row2\" class=\"row_heading level0 row2\" >3</th>\n",
       "      <td id=\"T_5574b_row2_col0\" class=\"data row2 col0\" >112</td>\n",
       "      <td id=\"T_5574b_row2_col1\" class=\"data row2 col1\" >90</td>\n",
       "      <td id=\"T_5574b_row2_col2\" class=\"data row2 col2\" >92</td>\n",
       "      <td id=\"T_5574b_row2_col3\" class=\"data row2 col3\" >114</td>\n",
       "    </tr>\n",
       "    <tr>\n",
       "      <th id=\"T_5574b_level0_row3\" class=\"row_heading level0 row3\" >4</th>\n",
       "      <td id=\"T_5574b_row3_col0\" class=\"data row3 col0\" >112</td>\n",
       "      <td id=\"T_5574b_row3_col1\" class=\"data row3 col1\" >91</td>\n",
       "      <td id=\"T_5574b_row3_col2\" class=\"data row3 col2\" >92</td>\n",
       "      <td id=\"T_5574b_row3_col3\" class=\"data row3 col3\" >112</td>\n",
       "    </tr>\n",
       "    <tr>\n",
       "      <th id=\"T_5574b_level0_row4\" class=\"row_heading level0 row4\" >5</th>\n",
       "      <td id=\"T_5574b_row4_col0\" class=\"data row4 col0\" >112</td>\n",
       "      <td id=\"T_5574b_row4_col1\" class=\"data row4 col1\" >91</td>\n",
       "      <td id=\"T_5574b_row4_col2\" class=\"data row4 col2\" >92</td>\n",
       "      <td id=\"T_5574b_row4_col3\" class=\"data row4 col3\" >114</td>\n",
       "    </tr>\n",
       "    <tr>\n",
       "      <th id=\"T_5574b_level0_row5\" class=\"row_heading level0 row5\" >6</th>\n",
       "      <td id=\"T_5574b_row5_col0\" class=\"data row5 col0\" >112</td>\n",
       "      <td id=\"T_5574b_row5_col1\" class=\"data row5 col1\" >91</td>\n",
       "      <td id=\"T_5574b_row5_col2\" class=\"data row5 col2\" >92</td>\n",
       "      <td id=\"T_5574b_row5_col3\" class=\"data row5 col3\" >114</td>\n",
       "    </tr>\n",
       "    <tr>\n",
       "      <th id=\"T_5574b_level0_row6\" class=\"row_heading level0 row6\" >7</th>\n",
       "      <td id=\"T_5574b_row6_col0\" class=\"data row6 col0\" >112</td>\n",
       "      <td id=\"T_5574b_row6_col1\" class=\"data row6 col1\" >91</td>\n",
       "      <td id=\"T_5574b_row6_col2\" class=\"data row6 col2\" >92</td>\n",
       "      <td id=\"T_5574b_row6_col3\" class=\"data row6 col3\" >114</td>\n",
       "    </tr>\n",
       "  </tbody>\n",
       "</table>\n"
      ],
      "text/plain": [
       "<pandas.io.formats.style.Styler at 0x7fde3a690430>"
      ]
     },
     "execution_count": 28,
     "metadata": {},
     "output_type": "execute_result"
    }
   ],
   "source": [
    "Lisbon = pd.pivot_table(lisbon_merged, values='count', index=['week_of_search'], columns=['travel_month'])\n",
    "title_lis = 'Table: Changes in Number of Flights for Lisbon'\n",
    "Lisbon = (\n",
    "    Lisbon.style\n",
    "    .set_caption(title_lis)\n",
    "    .set_table_styles([\n",
    "        {'selector': 'caption', 'props': [('color', 'purple'), ('font-size', '12px')]}\n",
    "    ])\n",
    ")\n",
    "Lisbon"
   ]
  },
  {
   "attachments": {},
   "cell_type": "markdown",
   "metadata": {},
   "source": [
    "## 5. Madrid"
   ]
  },
  {
   "cell_type": "code",
   "execution_count": 29,
   "metadata": {},
   "outputs": [],
   "source": [
    "madrid_01 = pd.read_csv('../dep&ret_flights/dep&ret_flights_0320/madrid_0320.csv')\n",
    "madrid_02 = pd.read_csv('../dep&ret_flights/dep&ret_flights_0327/madrid_0327.csv')\n",
    "madrid_03 = pd.read_csv('../dep&ret_flights/dep&ret_flights_0403/madrid_0403.csv')\n",
    "madrid_04 = pd.read_csv('../dep&ret_flights/dep&ret_flights_0410/madrid_0410.csv')\n",
    "madrid_05 = pd.read_csv('../dep&ret_flights/dep&ret_flights_0417/madrid_0417.csv')\n",
    "madrid_06 = pd.read_csv('../dep&ret_flights/dep&ret_flights_0423/madrid_0423.csv')\n",
    "madrid_07 = pd.read_csv('../dep&ret_flights/dep&ret_flights_0501/madrid_0501.csv')"
   ]
  },
  {
   "cell_type": "code",
   "execution_count": 30,
   "metadata": {},
   "outputs": [],
   "source": [
    "madrid_01 = dataset_transform(madrid_01, 1)\n",
    "madrid_02 = dataset_transform(madrid_02, 2)\n",
    "madrid_03 = dataset_transform(madrid_03, 3)\n",
    "madrid_04 = dataset_transform(madrid_04, 4)\n",
    "madrid_05 = dataset_transform(madrid_05, 5)\n",
    "madrid_06 = dataset_transform(madrid_06, 6)\n",
    "madrid_07 = dataset_transform(madrid_07, 7)"
   ]
  },
  {
   "cell_type": "code",
   "execution_count": 31,
   "metadata": {},
   "outputs": [],
   "source": [
    "madrid_merged = pd.concat([madrid_01, madrid_02, madrid_03, madrid_04, madrid_05, madrid_06, madrid_07], axis=0)\n",
    "madrid_merged = madrid_merged.rename(columns={'depFlight_departure': 'travel_month'})"
   ]
  },
  {
   "cell_type": "code",
   "execution_count": 32,
   "metadata": {},
   "outputs": [
    {
     "data": {
      "text/html": [
       "<style type=\"text/css\">\n",
       "#T_4900f caption {\n",
       "  color: red;\n",
       "  font-size: 12px;\n",
       "}\n",
       "</style>\n",
       "<table id=\"T_4900f\">\n",
       "  <caption>Table: Changes in Number of Flights for Madrid</caption>\n",
       "  <thead>\n",
       "    <tr>\n",
       "      <th class=\"index_name level0\" >travel_month</th>\n",
       "      <th id=\"T_4900f_level0_col0\" class=\"col_heading level0 col0\" >6</th>\n",
       "      <th id=\"T_4900f_level0_col1\" class=\"col_heading level0 col1\" >7</th>\n",
       "      <th id=\"T_4900f_level0_col2\" class=\"col_heading level0 col2\" >8</th>\n",
       "      <th id=\"T_4900f_level0_col3\" class=\"col_heading level0 col3\" >9</th>\n",
       "    </tr>\n",
       "    <tr>\n",
       "      <th class=\"index_name level0\" >week_of_search</th>\n",
       "      <th class=\"blank col0\" >&nbsp;</th>\n",
       "      <th class=\"blank col1\" >&nbsp;</th>\n",
       "      <th class=\"blank col2\" >&nbsp;</th>\n",
       "      <th class=\"blank col3\" >&nbsp;</th>\n",
       "    </tr>\n",
       "  </thead>\n",
       "  <tbody>\n",
       "    <tr>\n",
       "      <th id=\"T_4900f_level0_row0\" class=\"row_heading level0 row0\" >1</th>\n",
       "      <td id=\"T_4900f_row0_col0\" class=\"data row0 col0\" >241</td>\n",
       "      <td id=\"T_4900f_row0_col1\" class=\"data row0 col1\" >180</td>\n",
       "      <td id=\"T_4900f_row0_col2\" class=\"data row0 col2\" >150</td>\n",
       "      <td id=\"T_4900f_row0_col3\" class=\"data row0 col3\" >243</td>\n",
       "    </tr>\n",
       "    <tr>\n",
       "      <th id=\"T_4900f_level0_row1\" class=\"row_heading level0 row1\" >2</th>\n",
       "      <td id=\"T_4900f_row1_col0\" class=\"data row1 col0\" >236</td>\n",
       "      <td id=\"T_4900f_row1_col1\" class=\"data row1 col1\" >176</td>\n",
       "      <td id=\"T_4900f_row1_col2\" class=\"data row1 col2\" >146</td>\n",
       "      <td id=\"T_4900f_row1_col3\" class=\"data row1 col3\" >238</td>\n",
       "    </tr>\n",
       "    <tr>\n",
       "      <th id=\"T_4900f_level0_row2\" class=\"row_heading level0 row2\" >3</th>\n",
       "      <td id=\"T_4900f_row2_col0\" class=\"data row2 col0\" >235</td>\n",
       "      <td id=\"T_4900f_row2_col1\" class=\"data row2 col1\" >176</td>\n",
       "      <td id=\"T_4900f_row2_col2\" class=\"data row2 col2\" >146</td>\n",
       "      <td id=\"T_4900f_row2_col3\" class=\"data row2 col3\" >236</td>\n",
       "    </tr>\n",
       "    <tr>\n",
       "      <th id=\"T_4900f_level0_row3\" class=\"row_heading level0 row3\" >4</th>\n",
       "      <td id=\"T_4900f_row3_col0\" class=\"data row3 col0\" >236</td>\n",
       "      <td id=\"T_4900f_row3_col1\" class=\"data row3 col1\" >176</td>\n",
       "      <td id=\"T_4900f_row3_col2\" class=\"data row3 col2\" >146</td>\n",
       "      <td id=\"T_4900f_row3_col3\" class=\"data row3 col3\" >236</td>\n",
       "    </tr>\n",
       "    <tr>\n",
       "      <th id=\"T_4900f_level0_row4\" class=\"row_heading level0 row4\" >5</th>\n",
       "      <td id=\"T_4900f_row4_col0\" class=\"data row4 col0\" >236</td>\n",
       "      <td id=\"T_4900f_row4_col1\" class=\"data row4 col1\" >176</td>\n",
       "      <td id=\"T_4900f_row4_col2\" class=\"data row4 col2\" >146</td>\n",
       "      <td id=\"T_4900f_row4_col3\" class=\"data row4 col3\" >236</td>\n",
       "    </tr>\n",
       "    <tr>\n",
       "      <th id=\"T_4900f_level0_row5\" class=\"row_heading level0 row5\" >6</th>\n",
       "      <td id=\"T_4900f_row5_col0\" class=\"data row5 col0\" >235</td>\n",
       "      <td id=\"T_4900f_row5_col1\" class=\"data row5 col1\" >176</td>\n",
       "      <td id=\"T_4900f_row5_col2\" class=\"data row5 col2\" >146</td>\n",
       "      <td id=\"T_4900f_row5_col3\" class=\"data row5 col3\" >236</td>\n",
       "    </tr>\n",
       "    <tr>\n",
       "      <th id=\"T_4900f_level0_row6\" class=\"row_heading level0 row6\" >7</th>\n",
       "      <td id=\"T_4900f_row6_col0\" class=\"data row6 col0\" >235</td>\n",
       "      <td id=\"T_4900f_row6_col1\" class=\"data row6 col1\" >176</td>\n",
       "      <td id=\"T_4900f_row6_col2\" class=\"data row6 col2\" >146</td>\n",
       "      <td id=\"T_4900f_row6_col3\" class=\"data row6 col3\" >236</td>\n",
       "    </tr>\n",
       "  </tbody>\n",
       "</table>\n"
      ],
      "text/plain": [
       "<pandas.io.formats.style.Styler at 0x7fde3a6af970>"
      ]
     },
     "execution_count": 32,
     "metadata": {},
     "output_type": "execute_result"
    }
   ],
   "source": [
    "Madrid = pd.pivot_table(madrid_merged, values='count', index=['week_of_search'], columns=['travel_month'])\n",
    "title_mad = 'Table: Changes in Number of Flights for Madrid'\n",
    "Madrid = (\n",
    "    Madrid.style\n",
    "    .set_caption(title_mad)\n",
    "    .set_table_styles([\n",
    "        {'selector': 'caption', 'props': [('color', 'red'), ('font-size', '12px')]}\n",
    "    ])\n",
    ")\n",
    "Madrid"
   ]
  },
  {
   "attachments": {},
   "cell_type": "markdown",
   "metadata": {},
   "source": [
    "## 6. Paris"
   ]
  },
  {
   "cell_type": "code",
   "execution_count": 34,
   "metadata": {},
   "outputs": [],
   "source": [
    "paris_01 = pd.read_csv('../dep&ret_flights/dep&ret_flights_0320/paris_0320.csv')\n",
    "paris_02 = pd.read_csv('../dep&ret_flights/dep&ret_flights_0327/paris_0327.csv')\n",
    "paris_03 = pd.read_csv('../dep&ret_flights/dep&ret_flights_0403/paris_0403.csv')\n",
    "paris_04 = pd.read_csv('../dep&ret_flights/dep&ret_flights_0410/paris_0410.csv')\n",
    "paris_05 = pd.read_csv('../dep&ret_flights/dep&ret_flights_0417/paris_0417.csv')\n",
    "paris_06 = pd.read_csv('../dep&ret_flights/dep&ret_flights_0423/paris_0423.csv')\n",
    "paris_07 = pd.read_csv('../dep&ret_flights/dep&ret_flights_0501/paris_0501.csv')"
   ]
  },
  {
   "cell_type": "code",
   "execution_count": 35,
   "metadata": {},
   "outputs": [],
   "source": [
    "paris_01 = dataset_transform(paris_01, 1)\n",
    "paris_02 = dataset_transform(paris_02, 2)\n",
    "paris_03 = dataset_transform(paris_03, 3)\n",
    "paris_04 = dataset_transform(paris_04, 4)\n",
    "paris_05 = dataset_transform(paris_05, 5)\n",
    "paris_06 = dataset_transform(paris_06, 6)\n",
    "paris_07 = dataset_transform(paris_07, 7)"
   ]
  },
  {
   "cell_type": "code",
   "execution_count": 36,
   "metadata": {},
   "outputs": [],
   "source": [
    "paris_merged = pd.concat([paris_01, paris_02, paris_03, paris_04, paris_05, paris_06, paris_07], axis=0)\n",
    "paris_merged = paris_merged.rename(columns={'depFlight_departure': 'travel_month'})"
   ]
  },
  {
   "cell_type": "code",
   "execution_count": 37,
   "metadata": {},
   "outputs": [
    {
     "data": {
      "text/html": [
       "<style type=\"text/css\">\n",
       "#T_848b2 caption {\n",
       "  color: blue;\n",
       "  font-size: 12px;\n",
       "}\n",
       "</style>\n",
       "<table id=\"T_848b2\">\n",
       "  <caption>Table: Changes in Number of Flights for Paris</caption>\n",
       "  <thead>\n",
       "    <tr>\n",
       "      <th class=\"index_name level0\" >travel_month</th>\n",
       "      <th id=\"T_848b2_level0_col0\" class=\"col_heading level0 col0\" >6</th>\n",
       "      <th id=\"T_848b2_level0_col1\" class=\"col_heading level0 col1\" >7</th>\n",
       "      <th id=\"T_848b2_level0_col2\" class=\"col_heading level0 col2\" >8</th>\n",
       "      <th id=\"T_848b2_level0_col3\" class=\"col_heading level0 col3\" >9</th>\n",
       "    </tr>\n",
       "    <tr>\n",
       "      <th class=\"index_name level0\" >week_of_search</th>\n",
       "      <th class=\"blank col0\" >&nbsp;</th>\n",
       "      <th class=\"blank col1\" >&nbsp;</th>\n",
       "      <th class=\"blank col2\" >&nbsp;</th>\n",
       "      <th class=\"blank col3\" >&nbsp;</th>\n",
       "    </tr>\n",
       "  </thead>\n",
       "  <tbody>\n",
       "    <tr>\n",
       "      <th id=\"T_848b2_level0_row0\" class=\"row_heading level0 row0\" >1</th>\n",
       "      <td id=\"T_848b2_row0_col0\" class=\"data row0 col0\" >110</td>\n",
       "      <td id=\"T_848b2_row0_col1\" class=\"data row0 col1\" >89</td>\n",
       "      <td id=\"T_848b2_row0_col2\" class=\"data row0 col2\" >90</td>\n",
       "      <td id=\"T_848b2_row0_col3\" class=\"data row0 col3\" >120</td>\n",
       "    </tr>\n",
       "    <tr>\n",
       "      <th id=\"T_848b2_level0_row1\" class=\"row_heading level0 row1\" >2</th>\n",
       "      <td id=\"T_848b2_row1_col0\" class=\"data row1 col0\" >110</td>\n",
       "      <td id=\"T_848b2_row1_col1\" class=\"data row1 col1\" >89</td>\n",
       "      <td id=\"T_848b2_row1_col2\" class=\"data row1 col2\" >90</td>\n",
       "      <td id=\"T_848b2_row1_col3\" class=\"data row1 col3\" >120</td>\n",
       "    </tr>\n",
       "    <tr>\n",
       "      <th id=\"T_848b2_level0_row2\" class=\"row_heading level0 row2\" >3</th>\n",
       "      <td id=\"T_848b2_row2_col0\" class=\"data row2 col0\" >110</td>\n",
       "      <td id=\"T_848b2_row2_col1\" class=\"data row2 col1\" >90</td>\n",
       "      <td id=\"T_848b2_row2_col2\" class=\"data row2 col2\" >90</td>\n",
       "      <td id=\"T_848b2_row2_col3\" class=\"data row2 col3\" >120</td>\n",
       "    </tr>\n",
       "    <tr>\n",
       "      <th id=\"T_848b2_level0_row3\" class=\"row_heading level0 row3\" >4</th>\n",
       "      <td id=\"T_848b2_row3_col0\" class=\"data row3 col0\" >110</td>\n",
       "      <td id=\"T_848b2_row3_col1\" class=\"data row3 col1\" >89</td>\n",
       "      <td id=\"T_848b2_row3_col2\" class=\"data row3 col2\" >90</td>\n",
       "      <td id=\"T_848b2_row3_col3\" class=\"data row3 col3\" >120</td>\n",
       "    </tr>\n",
       "    <tr>\n",
       "      <th id=\"T_848b2_level0_row4\" class=\"row_heading level0 row4\" >5</th>\n",
       "      <td id=\"T_848b2_row4_col0\" class=\"data row4 col0\" >110</td>\n",
       "      <td id=\"T_848b2_row4_col1\" class=\"data row4 col1\" >89</td>\n",
       "      <td id=\"T_848b2_row4_col2\" class=\"data row4 col2\" >90</td>\n",
       "      <td id=\"T_848b2_row4_col3\" class=\"data row4 col3\" >120</td>\n",
       "    </tr>\n",
       "    <tr>\n",
       "      <th id=\"T_848b2_level0_row5\" class=\"row_heading level0 row5\" >6</th>\n",
       "      <td id=\"T_848b2_row5_col0\" class=\"data row5 col0\" >110</td>\n",
       "      <td id=\"T_848b2_row5_col1\" class=\"data row5 col1\" >89</td>\n",
       "      <td id=\"T_848b2_row5_col2\" class=\"data row5 col2\" >90</td>\n",
       "      <td id=\"T_848b2_row5_col3\" class=\"data row5 col3\" >120</td>\n",
       "    </tr>\n",
       "    <tr>\n",
       "      <th id=\"T_848b2_level0_row6\" class=\"row_heading level0 row6\" >7</th>\n",
       "      <td id=\"T_848b2_row6_col0\" class=\"data row6 col0\" >110</td>\n",
       "      <td id=\"T_848b2_row6_col1\" class=\"data row6 col1\" >89</td>\n",
       "      <td id=\"T_848b2_row6_col2\" class=\"data row6 col2\" >90</td>\n",
       "      <td id=\"T_848b2_row6_col3\" class=\"data row6 col3\" >120</td>\n",
       "    </tr>\n",
       "  </tbody>\n",
       "</table>\n"
      ],
      "text/plain": [
       "<pandas.io.formats.style.Styler at 0x7fde3a690df0>"
      ]
     },
     "execution_count": 37,
     "metadata": {},
     "output_type": "execute_result"
    }
   ],
   "source": [
    "Paris = pd.pivot_table(paris_merged, values='count', index=['week_of_search'], columns=['travel_month'])\n",
    "title_par = 'Table: Changes in Number of Flights for Paris'\n",
    "Paris = (\n",
    "    Paris.style\n",
    "    .set_caption(title_par)\n",
    "    .set_table_styles([\n",
    "        {'selector': 'caption', 'props': [('color', 'blue'), ('font-size', '12px')]}\n",
    "    ])\n",
    ")\n",
    "Paris"
   ]
  },
  {
   "attachments": {},
   "cell_type": "markdown",
   "metadata": {},
   "source": [
    "## 7. Rome"
   ]
  },
  {
   "cell_type": "code",
   "execution_count": 38,
   "metadata": {},
   "outputs": [],
   "source": [
    "rome_01 = pd.read_csv('../dep&ret_flights/dep&ret_flights_0320/rome_0320.csv')\n",
    "rome_02 = pd.read_csv('../dep&ret_flights/dep&ret_flights_0327/rome_0327.csv')\n",
    "rome_03 = pd.read_csv('../dep&ret_flights/dep&ret_flights_0403/rome_0403.csv')\n",
    "rome_04 = pd.read_csv('../dep&ret_flights/dep&ret_flights_0410/rome_0410.csv')\n",
    "rome_05 = pd.read_csv('../dep&ret_flights/dep&ret_flights_0417/rome_0417.csv')\n",
    "rome_06 = pd.read_csv('../dep&ret_flights/dep&ret_flights_0423/rome_0423.csv')\n",
    "rome_07 = pd.read_csv('../dep&ret_flights/dep&ret_flights_0501/rome_0501.csv')"
   ]
  },
  {
   "cell_type": "code",
   "execution_count": 39,
   "metadata": {},
   "outputs": [],
   "source": [
    "rome_01 = dataset_transform(rome_01, 1)\n",
    "rome_02 = dataset_transform(rome_02, 2)\n",
    "rome_03 = dataset_transform(rome_03, 3)\n",
    "rome_04 = dataset_transform(rome_04, 4)\n",
    "rome_05 = dataset_transform(rome_05, 5)\n",
    "rome_06 = dataset_transform(rome_06, 6)\n",
    "rome_07 = dataset_transform(rome_07, 7)"
   ]
  },
  {
   "cell_type": "code",
   "execution_count": 40,
   "metadata": {},
   "outputs": [],
   "source": [
    "rome_merged = pd.concat([rome_01, rome_02, rome_03, rome_04, rome_05, rome_06, rome_07], axis=0)\n",
    "rome_merged = rome_merged.rename(columns={'depFlight_departure': 'travel_month'})"
   ]
  },
  {
   "cell_type": "code",
   "execution_count": 46,
   "metadata": {},
   "outputs": [
    {
     "data": {
      "text/html": [
       "<style type=\"text/css\">\n",
       "#T_336e9 caption {\n",
       "  color: orange;\n",
       "  font-size: 12px;\n",
       "}\n",
       "</style>\n",
       "<table id=\"T_336e9\">\n",
       "  <caption>Table: Changes in Number of Flights for <br> Rome</caption>\n",
       "  <thead>\n",
       "    <tr>\n",
       "      <th class=\"index_name level0\" >travel_month</th>\n",
       "      <th id=\"T_336e9_level0_col0\" class=\"col_heading level0 col0\" >6</th>\n",
       "      <th id=\"T_336e9_level0_col1\" class=\"col_heading level0 col1\" >7</th>\n",
       "      <th id=\"T_336e9_level0_col2\" class=\"col_heading level0 col2\" >8</th>\n",
       "      <th id=\"T_336e9_level0_col3\" class=\"col_heading level0 col3\" >9</th>\n",
       "    </tr>\n",
       "    <tr>\n",
       "      <th class=\"index_name level0\" >week_of_search</th>\n",
       "      <th class=\"blank col0\" >&nbsp;</th>\n",
       "      <th class=\"blank col1\" >&nbsp;</th>\n",
       "      <th class=\"blank col2\" >&nbsp;</th>\n",
       "      <th class=\"blank col3\" >&nbsp;</th>\n",
       "    </tr>\n",
       "  </thead>\n",
       "  <tbody>\n",
       "    <tr>\n",
       "      <th id=\"T_336e9_level0_row0\" class=\"row_heading level0 row0\" >1</th>\n",
       "      <td id=\"T_336e9_row0_col0\" class=\"data row0 col0\" >141</td>\n",
       "      <td id=\"T_336e9_row0_col1\" class=\"data row0 col1\" >112</td>\n",
       "      <td id=\"T_336e9_row0_col2\" class=\"data row0 col2\" >114</td>\n",
       "      <td id=\"T_336e9_row0_col3\" class=\"data row0 col3\" >149</td>\n",
       "    </tr>\n",
       "    <tr>\n",
       "      <th id=\"T_336e9_level0_row1\" class=\"row_heading level0 row1\" >2</th>\n",
       "      <td id=\"T_336e9_row1_col0\" class=\"data row1 col0\" >136</td>\n",
       "      <td id=\"T_336e9_row1_col1\" class=\"data row1 col1\" >112</td>\n",
       "      <td id=\"T_336e9_row1_col2\" class=\"data row1 col2\" >114</td>\n",
       "      <td id=\"T_336e9_row1_col3\" class=\"data row1 col3\" >148</td>\n",
       "    </tr>\n",
       "    <tr>\n",
       "      <th id=\"T_336e9_level0_row2\" class=\"row_heading level0 row2\" >3</th>\n",
       "      <td id=\"T_336e9_row2_col0\" class=\"data row2 col0\" >145</td>\n",
       "      <td id=\"T_336e9_row2_col1\" class=\"data row2 col1\" >120</td>\n",
       "      <td id=\"T_336e9_row2_col2\" class=\"data row2 col2\" >120</td>\n",
       "      <td id=\"T_336e9_row2_col3\" class=\"data row2 col3\" >157</td>\n",
       "    </tr>\n",
       "    <tr>\n",
       "      <th id=\"T_336e9_level0_row3\" class=\"row_heading level0 row3\" >4</th>\n",
       "      <td id=\"T_336e9_row3_col0\" class=\"data row3 col0\" >144</td>\n",
       "      <td id=\"T_336e9_row3_col1\" class=\"data row3 col1\" >120</td>\n",
       "      <td id=\"T_336e9_row3_col2\" class=\"data row3 col2\" >119</td>\n",
       "      <td id=\"T_336e9_row3_col3\" class=\"data row3 col3\" >156</td>\n",
       "    </tr>\n",
       "    <tr>\n",
       "      <th id=\"T_336e9_level0_row4\" class=\"row_heading level0 row4\" >5</th>\n",
       "      <td id=\"T_336e9_row4_col0\" class=\"data row4 col0\" >147</td>\n",
       "      <td id=\"T_336e9_row4_col1\" class=\"data row4 col1\" >118</td>\n",
       "      <td id=\"T_336e9_row4_col2\" class=\"data row4 col2\" >119</td>\n",
       "      <td id=\"T_336e9_row4_col3\" class=\"data row4 col3\" >164</td>\n",
       "    </tr>\n",
       "    <tr>\n",
       "      <th id=\"T_336e9_level0_row5\" class=\"row_heading level0 row5\" >6</th>\n",
       "      <td id=\"T_336e9_row5_col0\" class=\"data row5 col0\" >146</td>\n",
       "      <td id=\"T_336e9_row5_col1\" class=\"data row5 col1\" >117</td>\n",
       "      <td id=\"T_336e9_row5_col2\" class=\"data row5 col2\" >118</td>\n",
       "      <td id=\"T_336e9_row5_col3\" class=\"data row5 col3\" >160</td>\n",
       "    </tr>\n",
       "    <tr>\n",
       "      <th id=\"T_336e9_level0_row6\" class=\"row_heading level0 row6\" >7</th>\n",
       "      <td id=\"T_336e9_row6_col0\" class=\"data row6 col0\" >146</td>\n",
       "      <td id=\"T_336e9_row6_col1\" class=\"data row6 col1\" >117</td>\n",
       "      <td id=\"T_336e9_row6_col2\" class=\"data row6 col2\" >119</td>\n",
       "      <td id=\"T_336e9_row6_col3\" class=\"data row6 col3\" >160</td>\n",
       "    </tr>\n",
       "  </tbody>\n",
       "</table>\n"
      ],
      "text/plain": [
       "<pandas.io.formats.style.Styler at 0x7fde3a695430>"
      ]
     },
     "execution_count": 46,
     "metadata": {},
     "output_type": "execute_result"
    }
   ],
   "source": [
    "Rome = pd.pivot_table(rome_merged, values='count', index=['week_of_search'], columns=['travel_month'])\n",
    "title_rome = 'Table: Changes in Number of Flights for <br> Rome'\n",
    "Rome = (\n",
    "    Rome.style\n",
    "    .set_caption(title_rome)\n",
    "    .set_table_styles([\n",
    "        {'selector': 'caption', 'props': [('color', 'orange'), ('font-size', '12px')]}\n",
    "    ])\n",
    ")\n",
    "Rome"
   ]
  }
 ],
 "metadata": {
  "kernelspec": {
   "display_name": "base",
   "language": "python",
   "name": "python3"
  },
  "language_info": {
   "codemirror_mode": {
    "name": "ipython",
    "version": 3
   },
   "file_extension": ".py",
   "mimetype": "text/x-python",
   "name": "python",
   "nbconvert_exporter": "python",
   "pygments_lexer": "ipython3",
   "version": "3.8.5"
  },
  "orig_nbformat": 4,
  "vscode": {
   "interpreter": {
    "hash": "f7bf2069b810f723d51afe45bf970fd6aedacb538a9ebde9724b1de83f31d4af"
   }
  }
 },
 "nbformat": 4,
 "nbformat_minor": 2
}
